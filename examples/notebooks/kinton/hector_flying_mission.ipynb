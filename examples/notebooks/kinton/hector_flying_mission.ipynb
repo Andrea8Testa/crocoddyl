{
 "cells": [
  {
   "cell_type": "code",
   "execution_count": 5,
   "metadata": {},
   "outputs": [],
   "source": [
    "from crocoddyl import *\n",
    "import pinocchio as pin\n",
    "import numpy as np\n",
    "from crocoddyl.diagnostic import displayTrajectory"
   ]
  },
  {
   "cell_type": "code",
   "execution_count": 10,
   "metadata": {},
   "outputs": [],
   "source": [
    "# LOAD ROBOT\n",
    "robot = loadHector()\n",
    "robot.initViewer(loadModel=True)\n",
    "robot.display(robot.q0)\n",
    "\n",
    "robot.framesForwardKinematics(robot.q0)\n",
    "\n",
    "rmodel = robot.model"
   ]
  },
  {
   "cell_type": "code",
   "execution_count": 11,
   "metadata": {},
   "outputs": [],
   "source": [
    "def uavPlacementModel(targetPos, targetQuat, integrationStep, frameName):\n",
    "    # ACTUATION MODEL\n",
    "    distanceRotorCOG = 0.1525\n",
    "    cf = 6.6e-5\n",
    "    cm = 1e-6\n",
    "    actModel = ActuationModelUAM(robot.model, '+', distanceRotorCOG, cf, cm)\n",
    "\n",
    "    # COST MODEL\n",
    "    # Create a cost model per the running and terminal action model.\n",
    "    runningCostModel = CostModelSum(rmodel, actModel.nu)\n",
    "    terminalCostModel = CostModelSum(rmodel, actModel.nu)\n",
    "\n",
    "    state = StatePinocchio(rmodel)\n",
    "    SE3ref = pin.SE3()\n",
    "    SE3ref.translation = targetPos.reshape(3,1)\n",
    "    SE3ref.rotation = targetQuat.matrix()\n",
    "\n",
    "    wBasePos  = [1]\n",
    "    wBaseOri  = [1]\n",
    "    wBaseVel  = [10]\n",
    "    \n",
    "    stateWeights   = np.array(wBasePos * 3 + wBaseOri * 3 + BaseVel * robot.model.nv)\n",
    "    controlWeights = np.array([0.1]*4)\n",
    "    \n",
    "    goalTrackingCost = CostModelFramePlacement(rmodel,\n",
    "                                               frame=rmodel.getFrameId(frameName),\n",
    "                                               ref=SE3ref,\n",
    "                                               nu =actModel.nu)\n",
    "    xRegCost = CostModelState(rmodel, \n",
    "                              state, \n",
    "                              ref=state.zero(), \n",
    "                              nu=actModel.nu,\n",
    "                              activation=ActivationModelWeightedQuad(stateWeights))\n",
    "    uRegCost = CostModelControl(rmodel, \n",
    "                                nu=robot.\n",
    "                                model.nv-2,\n",
    "                                activation = ActivationModelWeightedQuad(controlWeights))\n",
    "    uLimCost = CostModelControl(rmodel, \n",
    "                                nu=robot.\n",
    "                                model.nv-2,\n",
    "                                activation = ActivationModelInequality(np.array([0.1, 0.1, 0.1, 0.1, -1, -1, -1, -1, -1, -1]), \n",
    "                                                                    np.array([5, 5, 5, 5, 1, 1, 1, 1, 1, 1])))\n",
    "\n",
    "    # Then let's add the running and terminal cost functions\n",
    "    runningCostModel.addCost(name=\"pos\", weight=1, cost=goalTrackingCost)\n",
    "    runningCostModel.addCost(name=\"regx\", weight=1e-6, cost=xRegCost)\n",
    "    runningCostModel.addCost(name=\"regu\", weight=1e-6, cost=uRegCost)\n",
    "    # runningCostModel.addCost(name=\"limu\", weight=1e-3, cost=uLimCost)\n",
    "    terminalCostModel.addCost(name=\"pos\", weight=1e3, cost=goalTrackingCost)\n",
    "\n",
    "    # DIFFERENTIAL ACTION MODEL\n",
    "    runningDmodel  = DifferentialActionModelActuated(rmodel, actModel, runningCostModel)\n",
    "    terminalDmodel = DifferentialActionModelActuated(rmodel, actModel, terminalCostModel)\n",
    "    runningModel  = IntegratedActionModelEuler(runningDmodel)\n",
    "    terminalModel = IntegratedActionModelEuler(terminalDmodel) \n",
    "    runningModel.timeStep =  integrationStep\n",
    "    terminalModel.timeStep =  integrationStep\n",
    "    \n",
    "    return runningModel, terminalModel   "
   ]
  },
  {
   "cell_type": "code",
   "execution_count": 12,
   "metadata": {
    "scrolled": true
   },
   "outputs": [],
   "source": [
    "# DEFINING THE SHOOTING PROBLEM & SOLVING\n",
    "\n",
    "# Defining the time duration for running action models and the terminal one\n",
    "dt = 5e-2\n",
    "\n",
    "# For this optimal control problem, we define 250 knots (or running action\n",
    "# models) plus a terminal knot\n",
    "T = 25\n",
    "\n",
    "\n",
    "# DEFINE POSITION WAYPOINTS\n",
    "target_pos = [np.array([0,0,1])]\n",
    "target_pos += [np.array([0,1,1])]\n",
    "quat = pin.Quaternion(1, 0, 0, 0)\n",
    "quat.normalize()\n",
    "target_quat = [quat]*2\n",
    "\n",
    "# Plot goal frame\n",
    "for i in range(0,len(target_pos)):\n",
    "    robot.viewer.gui.addXYZaxis('world/wp%i' % i, [1., 0., 0., 1.], .03, 0.5)\n",
    "    robot.viewer.gui.applyConfiguration('world/wp%i' % i, \n",
    "                                        target_pos[i].tolist() + [target_quat[i][0], target_quat[i][1], target_quat[i][2], target_quat[i][3]])\n",
    "    \n",
    "robot.viewer.gui.refresh()"
   ]
  },
  {
   "cell_type": "code",
   "execution_count": 13,
   "metadata": {
    "scrolled": true
   },
   "outputs": [
    {
     "ename": "NameError",
     "evalue": "global name 'BaseVel' is not defined",
     "output_type": "error",
     "traceback": [
      "\u001b[0;31m---------------------------------------------------------------------------\u001b[0m",
      "\u001b[0;31mNameError\u001b[0m                                 Traceback (most recent call last)",
      "\u001b[0;32m<ipython-input-13-7c8226739a42>\u001b[0m in \u001b[0;36m<module>\u001b[0;34m()\u001b[0m\n\u001b[1;32m      1\u001b[0m \u001b[0mmodels\u001b[0m \u001b[0;34m=\u001b[0m \u001b[0;34m[\u001b[0m\u001b[0;34m]\u001b[0m\u001b[0;34m\u001b[0m\u001b[0m\n\u001b[1;32m      2\u001b[0m \u001b[0;32mfor\u001b[0m \u001b[0mi\u001b[0m \u001b[0;32min\u001b[0m \u001b[0mrange\u001b[0m\u001b[0;34m(\u001b[0m\u001b[0;36m0\u001b[0m\u001b[0;34m,\u001b[0m\u001b[0mlen\u001b[0m\u001b[0;34m(\u001b[0m\u001b[0mtarget_pos\u001b[0m\u001b[0;34m)\u001b[0m\u001b[0;34m)\u001b[0m\u001b[0;34m:\u001b[0m\u001b[0;34m\u001b[0m\u001b[0m\n\u001b[0;32m----> 3\u001b[0;31m     \u001b[0mrunningModel\u001b[0m\u001b[0;34m,\u001b[0m \u001b[0mterminalModel\u001b[0m \u001b[0;34m=\u001b[0m \u001b[0muavPlacementModel\u001b[0m\u001b[0;34m(\u001b[0m\u001b[0mtarget_pos\u001b[0m\u001b[0;34m[\u001b[0m\u001b[0mi\u001b[0m\u001b[0;34m]\u001b[0m\u001b[0;34m,\u001b[0m \u001b[0mtarget_quat\u001b[0m\u001b[0;34m[\u001b[0m\u001b[0mi\u001b[0m\u001b[0;34m]\u001b[0m\u001b[0;34m,\u001b[0m \u001b[0mdt\u001b[0m\u001b[0;34m,\u001b[0m \u001b[0;34m'base_link'\u001b[0m\u001b[0;34m)\u001b[0m\u001b[0;34m\u001b[0m\u001b[0m\n\u001b[0m\u001b[1;32m      4\u001b[0m     \u001b[0mmodels\u001b[0m \u001b[0;34m+=\u001b[0m \u001b[0;34m[\u001b[0m\u001b[0mrunningModel\u001b[0m\u001b[0;34m]\u001b[0m\u001b[0;34m*\u001b[0m\u001b[0;34m(\u001b[0m\u001b[0mT\u001b[0m\u001b[0;34m-\u001b[0m\u001b[0;36m1\u001b[0m\u001b[0;34m)\u001b[0m \u001b[0;34m+\u001b[0m \u001b[0;34m[\u001b[0m\u001b[0mterminalModel\u001b[0m\u001b[0;34m]\u001b[0m\u001b[0;34m\u001b[0m\u001b[0m\n\u001b[1;32m      5\u001b[0m \u001b[0;34m\u001b[0m\u001b[0m\n",
      "\u001b[0;32m<ipython-input-11-8b96bca807aa>\u001b[0m in \u001b[0;36muavPlacementModel\u001b[0;34m(targetPos, targetQuat, integrationStep, frameName)\u001b[0m\n\u001b[1;32m     20\u001b[0m     \u001b[0mwBaseVel\u001b[0m  \u001b[0;34m=\u001b[0m \u001b[0;34m[\u001b[0m\u001b[0;36m10\u001b[0m\u001b[0;34m]\u001b[0m\u001b[0;34m\u001b[0m\u001b[0m\n\u001b[1;32m     21\u001b[0m \u001b[0;34m\u001b[0m\u001b[0m\n\u001b[0;32m---> 22\u001b[0;31m     \u001b[0mstateWeights\u001b[0m   \u001b[0;34m=\u001b[0m \u001b[0mnp\u001b[0m\u001b[0;34m.\u001b[0m\u001b[0marray\u001b[0m\u001b[0;34m(\u001b[0m\u001b[0mwBasePos\u001b[0m \u001b[0;34m*\u001b[0m \u001b[0;36m3\u001b[0m \u001b[0;34m+\u001b[0m \u001b[0mwBaseOri\u001b[0m \u001b[0;34m*\u001b[0m \u001b[0;36m3\u001b[0m \u001b[0;34m+\u001b[0m \u001b[0mBaseVel\u001b[0m \u001b[0;34m*\u001b[0m \u001b[0mrobot\u001b[0m\u001b[0;34m.\u001b[0m\u001b[0mmodel\u001b[0m\u001b[0;34m.\u001b[0m\u001b[0mnv\u001b[0m\u001b[0;34m)\u001b[0m\u001b[0;34m\u001b[0m\u001b[0m\n\u001b[0m\u001b[1;32m     23\u001b[0m     \u001b[0mcontrolWeights\u001b[0m \u001b[0;34m=\u001b[0m \u001b[0mnp\u001b[0m\u001b[0;34m.\u001b[0m\u001b[0marray\u001b[0m\u001b[0;34m(\u001b[0m\u001b[0;34m[\u001b[0m\u001b[0;36m0.1\u001b[0m\u001b[0;34m]\u001b[0m\u001b[0;34m*\u001b[0m\u001b[0;36m4\u001b[0m\u001b[0;34m)\u001b[0m\u001b[0;34m\u001b[0m\u001b[0m\n\u001b[1;32m     24\u001b[0m \u001b[0;34m\u001b[0m\u001b[0m\n",
      "\u001b[0;31mNameError\u001b[0m: global name 'BaseVel' is not defined"
     ]
    }
   ],
   "source": [
    "models = []\n",
    "for i in range(0,len(target_pos)):\n",
    "    runningModel, terminalModel = uavPlacementModel(target_pos[i], target_quat[i], dt, 'base_link')\n",
    "    models += [runningModel]*(T-1) + [terminalModel]\n",
    "\n",
    "q0 = robot.q0\n",
    "x0 = np.hstack([m2a(q0), np.zeros(robot.model.nv)])\n",
    "\n",
    "problem = ShootingProblem(x0, models[:-1], models[-1])\n",
    "\n",
    "# Creating the DDP solver for this OC problem, defining a logger\n",
    "ddp = SolverFDDP(problem)\n",
    "ddp.callback = [CallbackDDPVerbose()]\n",
    "ddp.callback.append(CallbackDDPLogger())\n",
    "\n",
    "us0 = np.zeros([problem.T, 10])\n",
    "xs0 = [problem.initialState+0.1]*len(ddp.models())\n",
    "\n",
    "# ddp.solve(init_xs=xs0,init_us=us0,maxiter=150)\n",
    "ddp.solve(maxiter=150)"
   ]
  },
  {
   "cell_type": "code",
   "execution_count": null,
   "metadata": {},
   "outputs": [],
   "source": [
    "displayTrajectory(robot, ddp.xs, dt)\n"
   ]
  },
  {
   "cell_type": "code",
   "execution_count": null,
   "metadata": {},
   "outputs": [],
   "source": [
    "robot.nv"
   ]
  },
  {
   "cell_type": "code",
   "execution_count": null,
   "metadata": {},
   "outputs": [],
   "source": [
    "np.size(ddp.xs,0)"
   ]
  },
  {
   "cell_type": "code",
   "execution_count": null,
   "metadata": {},
   "outputs": [],
   "source": [
    "distanceRotorCOG = 0.1525\n",
    "cf = 6.6e-5\n",
    "cm = 1e-6\n",
    "pltUAM = PlotUAM(ddp.xs, ddp.us, np.size(ddp.us,0), dt, distanceRotorCOG, cf, cm)\n",
    "\n",
    "fig, axs = pltUAM.plotMotorForces()\n",
    "fig,axs = pltUAM.plotActuation()"
   ]
  },
  {
   "cell_type": "code",
   "execution_count": null,
   "metadata": {},
   "outputs": [],
   "source": [
    "t = np.arange(0, 2*T*dt-dt, dt)\n",
    "control = np.vstack(ddp.us)\n",
    "fig = plt.figure()\n",
    "axs = plt.plot(t, control[:,1])\n",
    "axs.set_title('Moments')"
   ]
  }
 ],
 "metadata": {
  "kernelspec": {
   "display_name": "Python 2",
   "language": "python",
   "name": "python2"
  },
  "language_info": {
   "codemirror_mode": {
    "name": "ipython",
    "version": 2
   },
   "file_extension": ".py",
   "mimetype": "text/x-python",
   "name": "python",
   "nbconvert_exporter": "python",
   "pygments_lexer": "ipython2",
   "version": "2.7.12"
  }
 },
 "nbformat": 4,
 "nbformat_minor": 2
}
