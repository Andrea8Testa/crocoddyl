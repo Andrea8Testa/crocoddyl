{
 "cells": [
  {
   "cell_type": "code",
   "execution_count": 26,
   "metadata": {},
   "outputs": [],
   "source": [
    "from crocoddyl import *\n",
    "import pinocchio as pin\n",
    "import numpy as np\n",
    "from crocoddyl.diagnostic import displayTrajectory"
   ]
  },
  {
   "cell_type": "code",
   "execution_count": 27,
   "metadata": {},
   "outputs": [],
   "source": [
    "# LOAD ROBOT\n",
    "robot = loadKinton()\n",
    "robot.initViewer(loadModel=True)\n",
    "robot.display(robot.q0)\n",
    "\n",
    "robot.framesForwardKinematics(robot.q0)\n",
    "\n",
    "rmodel = robot.model"
   ]
  },
  {
   "cell_type": "code",
   "execution_count": 28,
   "metadata": {},
   "outputs": [],
   "source": [
    "# DEFINE TARGET POSITION\n",
    "target_pos  = np.array([1,0,1])\n",
    "target_quat = pin.Quaternion(1, 0, 0, 0)\n",
    "target_quat.normalize()\n",
    "\n",
    "# Plot goal frame\n",
    "robot.viewer.gui.addXYZaxis('world/framegoal', [1., 0., 0., 1.], .015, 2)\n",
    "robot.viewer.gui.applyConfiguration('world/framegoal', target_pos.tolist() + [target_quat[0], target_quat[1], target_quat[2], target_quat[3]])\n",
    "robot.viewer.gui.refresh()"
   ]
  },
  {
   "cell_type": "code",
   "execution_count": 29,
   "metadata": {},
   "outputs": [],
   "source": [
    "# ACTUATION MODEL\n",
    "distanceRotorCOG = 0.1525\n",
    "cf = 6.6e-5\n",
    "cm = 1e-6\n",
    "actModel = ActuationModelUAM(robot.model, distanceRotorCOG, cf, cm)\n",
    "\n",
    "# COST MODEL\n",
    "# Create a cost model per the running and terminal action model.\n",
    "runningCostModel = CostModelSum(robot.model, actModel.nu)\n",
    "terminalCostModel = CostModelSum(robot.model, actModel.nu)\n",
    "\n",
    "frameName = 'base_link'\n",
    "state = StatePinocchio(robot.model)\n",
    "SE3ref = pin.SE3()\n",
    "SE3ref.translation = target_pos.reshape(3,1)\n",
    "SE3ref.rotation = target_quat.matrix()\n",
    "\n",
    "\n",
    "wBasePos  = [1]\n",
    "wBaseOri  = [500]\n",
    "wArmPos   = [1]\n",
    "wBaseVel  = [10]\n",
    "wBaseRate = [10]\n",
    "wArmVel   = [10] \n",
    "stateWeights   = np.array(wBasePos * 3 + wBaseOri * 3 + wArmPos * (robot.model.nv - 6) + wBaseVel * robot.model.nv)\n",
    "controlWeights = np.array([0.1]*4 + [100]*6)\n",
    "\n",
    "goalTrackingCost = CostModelFramePlacement(rmodel,\n",
    "                                           frame=rmodel.getFrameId(frameName),\n",
    "                                           ref=SE3ref,\n",
    "                                           nu =actModel.nu)\n",
    "\n",
    "xRegCost = CostModelState(rmodel, \n",
    "                          state, \n",
    "                          ref=state.zero(), \n",
    "                          nu=actModel.nu,\n",
    "                          activation=ActivationModelWeightedQuad(stateWeights))\n",
    "uRegCost = CostModelControl(rmodel, \n",
    "                            nu=robot.\n",
    "                            model.nv-2,\n",
    "                            activation = ActivationModelWeightedQuad(controlWeights))\n",
    "uLimCost = CostModelControl(rmodel, \n",
    "                            nu=robot.\n",
    "                            model.nv-2,\n",
    "                            activation = ActivationModelInequality(np.array([0.1, 0.1, 0.1, 0.1, -1, -1, -1, -1, -1, -1]), \n",
    "                                                                np.array([5, 5, 5, 5, 1, 1, 1, 1, 1, 1])))\n",
    "\n",
    "# Then let's add the running and terminal cost functions\n",
    "runningCostModel.addCost(name=\"pos\", weight=1, cost=goalTrackingCost)\n",
    "runningCostModel.addCost(name=\"regx\", weight=1e-4, cost=xRegCost)\n",
    "runningCostModel.addCost(name=\"regu\", weight=1e-6, cost=uRegCost)\n",
    "# runningCostModel.addCost(name=\"limu\", weight=1e-3, cost=uLimCost)\n",
    "terminalCostModel.addCost(name=\"pos\", weight=1e3, cost=goalTrackingCost)\n",
    "\n",
    "# DIFFERENTIAL ACTION MODEL\n",
    "runningModel = IntegratedActionModelEuler(DifferentialActionModelActuated(robot.model, actModel, runningCostModel))\n",
    "terminalModel = IntegratedActionModelEuler(DifferentialActionModelActuated(robot.model, actModel, terminalCostModel))"
   ]
  },
  {
   "cell_type": "code",
   "execution_count": 30,
   "metadata": {
    "scrolled": true
   },
   "outputs": [],
   "source": [
    "# DEFINING THE SHOOTING PROBLEM & SOLVING\n",
    "\n",
    "# Defining the time duration for running action models and the terminal one\n",
    "dt = 1e-2\n",
    "runningModel.timeStep = dt\n",
    "\n",
    "# For this optimal control problem, we define 250 knots (or running action\n",
    "# models) plus a terminal knot\n",
    "T = 100\n",
    "q0 = rmodel.referenceConfigurations[\"initial_pose\"].copy()\n",
    "q0[:3] = np.array([[0,0,1]]).T\n",
    "robot.display(q0)\n",
    "\n",
    "v0 = pin.utils.zero(rmodel.nv)\n",
    "x0 = m2a(np.concatenate([q0, v0]))\n",
    "rmodel.defaultState = x0.copy()\n",
    "\n",
    "problem = ShootingProblem(x0, [runningModel] * T, terminalModel)\n",
    "\n",
    "# Creating the DDP solver for this OC problem, defining a logger\n",
    "fddp = SolverFDDP(problem)\n",
    "fddp.callback = [CallbackDDPVerbose()]\n",
    "fddp.callback.append(CallbackDDPLogger())"
   ]
  },
  {
   "cell_type": "code",
   "execution_count": 31,
   "metadata": {},
   "outputs": [
    {
     "name": "stdout",
     "output_type": "stream",
     "text": [
      "iter \t cost \t      stop \t    grad \t  xreg \t      ureg \t step \t feas\n",
      "   0  6.29590e+02  7.96224e-02  2.15609e+03  1.00000e-09  1.00000e-09   0.2500     0\n",
      "   1  6.30852e+02  4.80967e-02  1.26791e+03  1.00000e-08  1.00000e-08   0.0020     0\n",
      "   2  6.01761e+02  4.82739e-02  1.23187e+03  1.00000e-08  1.00000e-08   0.0625     0\n",
      "   3  4.40427e+03  1.06561e-01  4.42949e+05  1.00000e-07  1.00000e-07   0.0020     0\n",
      "   4  5.56204e+02  9.78431e-02  4.88230e+04  1.00000e-06  1.00000e-06   0.0020     0\n",
      "   5  5.32187e+02  5.97649e-02  1.43019e+03  1.00000e-06  1.00000e-06   0.0312     0\n",
      "   6  4.97507e+02  1.60327e-01  1.61203e+03  1.00000e-06  1.00000e-06   0.0312     0\n",
      "   7  4.74778e+02  8.38901e-02  1.91458e+03  1.00000e-06  1.00000e-06   0.0156     0\n",
      "   8  3.25696e+02  5.72554e-02  9.34297e+02  1.00000e-06  1.00000e-06   0.2500     0\n",
      "   9  2.67737e+02  2.86730e-01  5.26083e+03  1.00000e-06  1.00000e-06   0.0156     0\n",
      "iter \t cost \t      stop \t    grad \t  xreg \t      ureg \t step \t feas\n",
      "  10  2.37987e+02  4.96799e-02  5.86572e+02  1.00000e-06  1.00000e-06   0.1250     0\n",
      "  11  2.02788e+02  4.53041e-02  4.86577e+03  1.00000e-06  1.00000e-06   0.0156     0\n",
      "  12  1.85384e+02  4.77690e-02  4.46737e+02  1.00000e-06  1.00000e-06   0.1250     0\n",
      "  13  1.66182e+02  6.62648e-02  4.01742e+03  1.00000e-06  1.00000e-06   0.0078     0\n",
      "  14  1.58441e+02  9.52512e-02  1.05481e+03  1.00000e-06  1.00000e-06   0.0156     0\n",
      "  15  1.13844e+02  1.18378e-01  3.06773e+02  1.00000e-06  1.00000e-06   0.2500     0\n",
      "  16  1.05150e+02  1.25007e-01  2.20486e+03  1.00000e-06  1.00000e-06   0.0312     0\n",
      "  17  9.90704e+01  5.23780e-02  2.70045e+03  1.00000e-06  1.00000e-06   0.0156     0\n",
      "  18  8.94492e+01  2.02392e-01  2.07226e+02  1.00000e-06  1.00000e-06   0.1250     0\n",
      "  19  6.47362e+01  1.76034e-01  1.65536e+03  1.00000e-06  1.00000e-06   0.0156     0\n",
      "iter \t cost \t      stop \t    grad \t  xreg \t      ureg \t step \t feas\n",
      "  20  6.28304e+01  2.51709e-02  1.40523e+02  1.00000e-06  1.00000e-06   0.1250     0\n",
      "  21  4.98590e+01  4.79961e-02  1.35959e+03  1.00000e-06  1.00000e-06   0.0156     0\n",
      "  22  4.52306e+01  1.66295e-02  1.09988e+02  1.00000e-06  1.00000e-06   0.0625     0\n",
      "  23  4.34704e+01  6.83555e-03  2.38636e+02  1.00000e-06  1.00000e-06   0.0312     0\n",
      "  24  4.14151e+01  1.23934e-02  2.46175e+02  1.00000e-06  1.00000e-06   0.0312     0\n",
      "  25  3.88052e+01  7.79518e-03  3.04807e+02  1.00000e-06  1.00000e-06   0.0156     0\n",
      "  26  2.99692e+01  7.69465e-03  6.41478e+01  1.00000e-06  1.00000e-06   0.2500     0\n",
      "  27  2.50620e+01  5.60275e-03  7.16136e+02  1.00000e-06  1.00000e-06   0.0156     0\n",
      "  28  2.36294e+01  7.39141e-03  4.36020e+01  1.00000e-06  1.00000e-06   0.0625     0\n",
      "  29  2.29907e+01  6.96437e-03  1.30013e+02  1.00000e-06  1.00000e-06   0.0312     0\n",
      "iter \t cost \t      stop \t    grad \t  xreg \t      ureg \t step \t feas\n",
      "  30  2.15019e+01  6.50978e-03  1.74040e+02  1.00000e-06  1.00000e-06   0.0156     0\n",
      "  31  1.86834e+01  5.57690e-03  2.94871e+01  1.00000e-06  1.00000e-06   0.2500     0\n",
      "  32  1.51607e+01  3.23914e-03  4.99516e+02  1.00000e-06  1.00000e-06   0.0156     0\n",
      "  33  1.47822e+01  2.51836e-03  2.25850e+01  1.00000e-06  1.00000e-06   0.0625     0\n",
      "  34  1.40048e+01  2.43399e-03  9.80769e+01  1.00000e-06  1.00000e-06   0.0156     0\n",
      "  35  1.30786e+01  2.37065e-03  1.44113e+01  1.00000e-06  1.00000e-06   0.1250     0\n",
      "  36  1.23943e+01  3.02734e-03  8.72063e+01  1.00000e-06  1.00000e-06   0.0156     0\n",
      "  37  1.18446e+01  2.82385e-03  1.13099e+01  1.00000e-06  1.00000e-06   0.1250     0\n",
      "  38  1.12258e+01  3.53432e-03  8.45098e+01  1.00000e-06  1.00000e-06   0.0156     0\n",
      "  39  1.09829e+01  3.60843e-03  9.22512e+00  1.00000e-06  1.00000e-06   0.1250     0\n",
      "iter \t cost \t      stop \t    grad \t  xreg \t      ureg \t step \t feas\n",
      "  40  1.03321e+01  4.10735e-03  9.02560e+01  1.00000e-06  1.00000e-06   0.0156     0\n",
      "  41  1.01096e+01  4.04217e-03  7.82867e+00  1.00000e-06  1.00000e-06   0.0625     0\n",
      "  42  1.00090e+01  3.91499e-03  2.43686e+01  1.00000e-06  1.00000e-06   0.0312     0\n",
      "  43  9.72547e+00  3.74271e-03  3.48707e+01  1.00000e-06  1.00000e-06   0.0156     0\n",
      "  44  9.56641e+00  3.48811e-03  5.60029e+00  1.00000e-06  1.00000e-06   0.2500     0\n",
      "  45  8.43643e+00  8.91384e-04  1.63381e+02  1.00000e-06  1.00000e-06   0.0156     0\n"
     ]
    },
    {
     "ename": "KeyboardInterrupt",
     "evalue": "",
     "output_type": "error",
     "traceback": [
      "\u001b[0;31m---------------------------------------------------------------------------\u001b[0m",
      "\u001b[0;31mKeyboardInterrupt\u001b[0m                         Traceback (most recent call last)",
      "\u001b[0;32m<ipython-input-31-5296d495a382>\u001b[0m in \u001b[0;36m<module>\u001b[0;34m()\u001b[0m\n\u001b[1;32m      5\u001b[0m \u001b[0mxs0\u001b[0m \u001b[0;34m=\u001b[0m \u001b[0;34m[\u001b[0m\u001b[0mproblem\u001b[0m\u001b[0;34m.\u001b[0m\u001b[0minitialState\u001b[0m\u001b[0;34m]\u001b[0m\u001b[0;34m*\u001b[0m\u001b[0mlen\u001b[0m\u001b[0;34m(\u001b[0m\u001b[0mfddp\u001b[0m\u001b[0;34m.\u001b[0m\u001b[0mmodels\u001b[0m\u001b[0;34m(\u001b[0m\u001b[0;34m)\u001b[0m\u001b[0;34m)\u001b[0m\u001b[0;34m\u001b[0m\u001b[0m\n\u001b[1;32m      6\u001b[0m \u001b[0;34m\u001b[0m\u001b[0m\n\u001b[0;32m----> 7\u001b[0;31m \u001b[0mfddp\u001b[0m\u001b[0;34m.\u001b[0m\u001b[0msolve\u001b[0m\u001b[0;34m(\u001b[0m\u001b[0;34m)\u001b[0m\u001b[0;34m\u001b[0m\u001b[0m\n\u001b[0m",
      "\u001b[0;32m/home/jmarti/robotics/toolboxes/crocoddyl/crocoddyl/fddp.pyc\u001b[0m in \u001b[0;36msolve\u001b[0;34m(self, maxiter, init_xs, init_us, isFeasible, regInit)\u001b[0m\n\u001b[1;32m    157\u001b[0m             \u001b[0;32mfor\u001b[0m \u001b[0ma\u001b[0m \u001b[0;32min\u001b[0m \u001b[0mself\u001b[0m\u001b[0;34m.\u001b[0m\u001b[0malphas\u001b[0m\u001b[0;34m:\u001b[0m\u001b[0;34m\u001b[0m\u001b[0m\n\u001b[1;32m    158\u001b[0m                 \u001b[0;32mtry\u001b[0m\u001b[0;34m:\u001b[0m\u001b[0;34m\u001b[0m\u001b[0m\n\u001b[0;32m--> 159\u001b[0;31m                     \u001b[0mself\u001b[0m\u001b[0;34m.\u001b[0m\u001b[0mdV\u001b[0m \u001b[0;34m=\u001b[0m \u001b[0mself\u001b[0m\u001b[0;34m.\u001b[0m\u001b[0mtryStep\u001b[0m\u001b[0;34m(\u001b[0m\u001b[0ma\u001b[0m\u001b[0;34m)\u001b[0m\u001b[0;34m\u001b[0m\u001b[0m\n\u001b[0m\u001b[1;32m    160\u001b[0m                 \u001b[0;32mexcept\u001b[0m \u001b[0mArithmeticError\u001b[0m\u001b[0;34m:\u001b[0m\u001b[0;34m\u001b[0m\u001b[0m\n\u001b[1;32m    161\u001b[0m                     \u001b[0;32mcontinue\u001b[0m\u001b[0;34m\u001b[0m\u001b[0m\n",
      "\u001b[0;32m/home/jmarti/robotics/toolboxes/crocoddyl/crocoddyl/fddp.pyc\u001b[0m in \u001b[0;36mtryStep\u001b[0;34m(self, stepLength)\u001b[0m\n\u001b[1;32m    122\u001b[0m         \u001b[0;34m:\u001b[0m\u001b[0mparam\u001b[0m \u001b[0mstepLength\u001b[0m\u001b[0;34m:\u001b[0m \u001b[0mstep\u001b[0m \u001b[0mlength\u001b[0m\u001b[0;34m\u001b[0m\u001b[0m\n\u001b[1;32m    123\u001b[0m         \"\"\"\n\u001b[0;32m--> 124\u001b[0;31m         \u001b[0mself\u001b[0m\u001b[0;34m.\u001b[0m\u001b[0mforwardPass\u001b[0m\u001b[0;34m(\u001b[0m\u001b[0mstepLength\u001b[0m\u001b[0;34m)\u001b[0m\u001b[0;34m\u001b[0m\u001b[0m\n\u001b[0m\u001b[1;32m    125\u001b[0m         \u001b[0;32mreturn\u001b[0m \u001b[0mself\u001b[0m\u001b[0;34m.\u001b[0m\u001b[0mcost\u001b[0m \u001b[0;34m-\u001b[0m \u001b[0mself\u001b[0m\u001b[0;34m.\u001b[0m\u001b[0mcost_try\u001b[0m\u001b[0;34m\u001b[0m\u001b[0m\n\u001b[1;32m    126\u001b[0m \u001b[0;34m\u001b[0m\u001b[0m\n",
      "\u001b[0;32m/home/jmarti/robotics/toolboxes/crocoddyl/crocoddyl/fddp.pyc\u001b[0m in \u001b[0;36mforwardPass\u001b[0;34m(self, stepLength, warning)\u001b[0m\n\u001b[1;32m    326\u001b[0m             \u001b[0;32mwith\u001b[0m \u001b[0mnp\u001b[0m\u001b[0;34m.\u001b[0m\u001b[0mwarnings\u001b[0m\u001b[0;34m.\u001b[0m\u001b[0mcatch_warnings\u001b[0m\u001b[0;34m(\u001b[0m\u001b[0;34m)\u001b[0m\u001b[0;34m:\u001b[0m\u001b[0;34m\u001b[0m\u001b[0m\n\u001b[1;32m    327\u001b[0m                 \u001b[0mnp\u001b[0m\u001b[0;34m.\u001b[0m\u001b[0mwarnings\u001b[0m\u001b[0;34m.\u001b[0m\u001b[0msimplefilter\u001b[0m\u001b[0;34m(\u001b[0m\u001b[0mwarning\u001b[0m\u001b[0;34m)\u001b[0m\u001b[0;34m\u001b[0m\u001b[0m\n\u001b[0;32m--> 328\u001b[0;31m                 \u001b[0mxnext\u001b[0m\u001b[0;34m,\u001b[0m \u001b[0mcost\u001b[0m \u001b[0;34m=\u001b[0m \u001b[0mm\u001b[0m\u001b[0;34m.\u001b[0m\u001b[0mcalc\u001b[0m\u001b[0;34m(\u001b[0m\u001b[0md\u001b[0m\u001b[0;34m,\u001b[0m \u001b[0mxtry\u001b[0m\u001b[0;34m[\u001b[0m\u001b[0mt\u001b[0m\u001b[0;34m]\u001b[0m\u001b[0;34m,\u001b[0m \u001b[0mutry\u001b[0m\u001b[0;34m[\u001b[0m\u001b[0mt\u001b[0m\u001b[0;34m]\u001b[0m\u001b[0;34m)\u001b[0m\u001b[0;34m\u001b[0m\u001b[0m\n\u001b[0m\u001b[1;32m    329\u001b[0m             \u001b[0mctry\u001b[0m \u001b[0;34m+=\u001b[0m \u001b[0mcost\u001b[0m\u001b[0;34m\u001b[0m\u001b[0m\n\u001b[1;32m    330\u001b[0m             \u001b[0mraiseIfNan\u001b[0m\u001b[0;34m(\u001b[0m\u001b[0;34m[\u001b[0m\u001b[0mctry\u001b[0m\u001b[0;34m,\u001b[0m \u001b[0mcost\u001b[0m\u001b[0;34m]\u001b[0m\u001b[0;34m,\u001b[0m \u001b[0mArithmeticError\u001b[0m\u001b[0;34m(\u001b[0m\u001b[0;34m'forward error'\u001b[0m\u001b[0;34m)\u001b[0m\u001b[0;34m)\u001b[0m\u001b[0;34m\u001b[0m\u001b[0m\n",
      "\u001b[0;32m/home/jmarti/robotics/toolboxes/crocoddyl/crocoddyl/integrated_action.pyc\u001b[0m in \u001b[0;36mcalc\u001b[0;34m(self, data, x, u)\u001b[0m\n\u001b[1;32m     23\u001b[0m     \u001b[0;32mdef\u001b[0m \u001b[0mcalc\u001b[0m\u001b[0;34m(\u001b[0m\u001b[0mself\u001b[0m\u001b[0;34m,\u001b[0m \u001b[0mdata\u001b[0m\u001b[0;34m,\u001b[0m \u001b[0mx\u001b[0m\u001b[0;34m,\u001b[0m \u001b[0mu\u001b[0m\u001b[0;34m=\u001b[0m\u001b[0mNone\u001b[0m\u001b[0;34m)\u001b[0m\u001b[0;34m:\u001b[0m\u001b[0;34m\u001b[0m\u001b[0m\n\u001b[1;32m     24\u001b[0m         \u001b[0mnq\u001b[0m\u001b[0;34m,\u001b[0m \u001b[0mdt\u001b[0m \u001b[0;34m=\u001b[0m \u001b[0mself\u001b[0m\u001b[0;34m.\u001b[0m\u001b[0mnq\u001b[0m\u001b[0;34m,\u001b[0m \u001b[0mself\u001b[0m\u001b[0;34m.\u001b[0m\u001b[0mtimeStep\u001b[0m\u001b[0;34m\u001b[0m\u001b[0m\n\u001b[0;32m---> 25\u001b[0;31m         \u001b[0macc\u001b[0m\u001b[0;34m,\u001b[0m \u001b[0mcost\u001b[0m \u001b[0;34m=\u001b[0m \u001b[0mself\u001b[0m\u001b[0;34m.\u001b[0m\u001b[0mdifferential\u001b[0m\u001b[0;34m.\u001b[0m\u001b[0mcalc\u001b[0m\u001b[0;34m(\u001b[0m\u001b[0mdata\u001b[0m\u001b[0;34m.\u001b[0m\u001b[0mdifferential\u001b[0m\u001b[0;34m,\u001b[0m \u001b[0mx\u001b[0m\u001b[0;34m,\u001b[0m \u001b[0mu\u001b[0m\u001b[0;34m)\u001b[0m\u001b[0;34m\u001b[0m\u001b[0m\n\u001b[0m\u001b[1;32m     26\u001b[0m         \u001b[0;32mif\u001b[0m \u001b[0mself\u001b[0m\u001b[0;34m.\u001b[0m\u001b[0mwithCostResiduals\u001b[0m\u001b[0;34m:\u001b[0m\u001b[0;34m\u001b[0m\u001b[0m\n\u001b[1;32m     27\u001b[0m             \u001b[0mdata\u001b[0m\u001b[0;34m.\u001b[0m\u001b[0mcostResiduals\u001b[0m\u001b[0;34m[\u001b[0m\u001b[0;34m:\u001b[0m\u001b[0;34m]\u001b[0m \u001b[0;34m=\u001b[0m \u001b[0mdata\u001b[0m\u001b[0;34m.\u001b[0m\u001b[0mdifferential\u001b[0m\u001b[0;34m.\u001b[0m\u001b[0mcostResiduals\u001b[0m\u001b[0;34m[\u001b[0m\u001b[0;34m:\u001b[0m\u001b[0;34m]\u001b[0m\u001b[0;34m\u001b[0m\u001b[0m\n",
      "\u001b[0;32m/home/jmarti/robotics/toolboxes/crocoddyl/crocoddyl/differential_action.pyc\u001b[0m in \u001b[0;36mcalc\u001b[0;34m(self, data, x, u)\u001b[0m\n\u001b[1;32m    346\u001b[0m         \u001b[0mdata\u001b[0m\u001b[0;34m.\u001b[0m\u001b[0mtauq\u001b[0m\u001b[0;34m[\u001b[0m\u001b[0;34m:\u001b[0m\u001b[0;34m]\u001b[0m \u001b[0;34m=\u001b[0m \u001b[0mself\u001b[0m\u001b[0;34m.\u001b[0m\u001b[0mactuation\u001b[0m\u001b[0;34m.\u001b[0m\u001b[0mcalc\u001b[0m\u001b[0;34m(\u001b[0m\u001b[0mdata\u001b[0m\u001b[0;34m.\u001b[0m\u001b[0mactuation\u001b[0m\u001b[0;34m,\u001b[0m \u001b[0mx\u001b[0m\u001b[0;34m,\u001b[0m \u001b[0mu\u001b[0m\u001b[0;34m)\u001b[0m\u001b[0;34m\u001b[0m\u001b[0m\n\u001b[1;32m    347\u001b[0m \u001b[0;34m\u001b[0m\u001b[0m\n\u001b[0;32m--> 348\u001b[0;31m         \u001b[0mpinocchio\u001b[0m\u001b[0;34m.\u001b[0m\u001b[0mcomputeAllTerms\u001b[0m\u001b[0;34m(\u001b[0m\u001b[0mself\u001b[0m\u001b[0;34m.\u001b[0m\u001b[0mpinocchio\u001b[0m\u001b[0;34m,\u001b[0m \u001b[0mdata\u001b[0m\u001b[0;34m.\u001b[0m\u001b[0mpinocchio\u001b[0m\u001b[0;34m,\u001b[0m \u001b[0mq\u001b[0m\u001b[0;34m,\u001b[0m \u001b[0mv\u001b[0m\u001b[0;34m)\u001b[0m\u001b[0;34m\u001b[0m\u001b[0m\n\u001b[0m\u001b[1;32m    349\u001b[0m         \u001b[0mdata\u001b[0m\u001b[0;34m.\u001b[0m\u001b[0mM\u001b[0m \u001b[0;34m=\u001b[0m \u001b[0mdata\u001b[0m\u001b[0;34m.\u001b[0m\u001b[0mpinocchio\u001b[0m\u001b[0;34m.\u001b[0m\u001b[0mM\u001b[0m\u001b[0;34m\u001b[0m\u001b[0m\n\u001b[1;32m    350\u001b[0m         \u001b[0mdata\u001b[0m\u001b[0;34m.\u001b[0m\u001b[0mMinv\u001b[0m \u001b[0;34m=\u001b[0m \u001b[0mnp\u001b[0m\u001b[0;34m.\u001b[0m\u001b[0mlinalg\u001b[0m\u001b[0;34m.\u001b[0m\u001b[0minv\u001b[0m\u001b[0;34m(\u001b[0m\u001b[0mdata\u001b[0m\u001b[0;34m.\u001b[0m\u001b[0mM\u001b[0m\u001b[0;34m)\u001b[0m\u001b[0;34m\u001b[0m\u001b[0m\n",
      "\u001b[0;32m/home/jmarti/.local/lib/python2.7/site-packages/numpy/linalg/linalg.pyc\u001b[0m in \u001b[0;36minv\u001b[0;34m(a)\u001b[0m\n\u001b[1;32m    549\u001b[0m     \u001b[0msignature\u001b[0m \u001b[0;34m=\u001b[0m \u001b[0;34m'D->D'\u001b[0m \u001b[0;32mif\u001b[0m \u001b[0misComplexType\u001b[0m\u001b[0;34m(\u001b[0m\u001b[0mt\u001b[0m\u001b[0;34m)\u001b[0m \u001b[0;32melse\u001b[0m \u001b[0;34m'd->d'\u001b[0m\u001b[0;34m\u001b[0m\u001b[0m\n\u001b[1;32m    550\u001b[0m     \u001b[0mextobj\u001b[0m \u001b[0;34m=\u001b[0m \u001b[0mget_linalg_error_extobj\u001b[0m\u001b[0;34m(\u001b[0m\u001b[0m_raise_linalgerror_singular\u001b[0m\u001b[0;34m)\u001b[0m\u001b[0;34m\u001b[0m\u001b[0m\n\u001b[0;32m--> 551\u001b[0;31m     \u001b[0mainv\u001b[0m \u001b[0;34m=\u001b[0m \u001b[0m_umath_linalg\u001b[0m\u001b[0;34m.\u001b[0m\u001b[0minv\u001b[0m\u001b[0;34m(\u001b[0m\u001b[0ma\u001b[0m\u001b[0;34m,\u001b[0m \u001b[0msignature\u001b[0m\u001b[0;34m=\u001b[0m\u001b[0msignature\u001b[0m\u001b[0;34m,\u001b[0m \u001b[0mextobj\u001b[0m\u001b[0;34m=\u001b[0m\u001b[0mextobj\u001b[0m\u001b[0;34m)\u001b[0m\u001b[0;34m\u001b[0m\u001b[0m\n\u001b[0m\u001b[1;32m    552\u001b[0m     \u001b[0;32mreturn\u001b[0m \u001b[0mwrap\u001b[0m\u001b[0;34m(\u001b[0m\u001b[0mainv\u001b[0m\u001b[0;34m.\u001b[0m\u001b[0mastype\u001b[0m\u001b[0;34m(\u001b[0m\u001b[0mresult_t\u001b[0m\u001b[0;34m,\u001b[0m \u001b[0mcopy\u001b[0m\u001b[0;34m=\u001b[0m\u001b[0mFalse\u001b[0m\u001b[0;34m)\u001b[0m\u001b[0;34m)\u001b[0m\u001b[0;34m\u001b[0m\u001b[0m\n\u001b[1;32m    553\u001b[0m \u001b[0;34m\u001b[0m\u001b[0m\n",
      "\u001b[0;31mKeyboardInterrupt\u001b[0m: "
     ]
    }
   ],
   "source": [
    "us0 = [\n",
    "    m.differential.quasiStatic(d.differential, rmodel.defaultState)\n",
    "    if isinstance(m, IntegratedActionModelEuler) else np.zeros(0)\n",
    "    for m, d in zip(fddp.problem.runningModels, fddp.problem.runningDatas)]\n",
    "xs0 = [problem.initialState]*len(fddp.models())\n",
    "\n",
    "fddp.solve()"
   ]
  },
  {
   "cell_type": "code",
   "execution_count": 19,
   "metadata": {},
   "outputs": [],
   "source": [
    "displayTrajectory(robot, fddp.xs, runningModel.timeStep)"
   ]
  },
  {
   "cell_type": "code",
   "execution_count": 23,
   "metadata": {},
   "outputs": [
    {
     "name": "stdout",
     "output_type": "stream",
     "text": [
      "[[0.]\n",
      " [0.]\n",
      " [0.]\n",
      " [0.]\n",
      " [0.]\n",
      " [0.]\n",
      " [0.]\n",
      " [0.]\n",
      " [0.]\n",
      " [0.]\n",
      " [0.]\n",
      " [0.]]\n"
     ]
    }
   ],
   "source": [
    "import time \n",
    "dt = 0.01\n",
    "t = np.arange(0,1,dt)\n",
    "q0 = rmodel.referenceConfigurations[\"initial_pose\"].copy()\n",
    "q0[:3] = np.array([[0,0,1]]).T\n",
    "\n",
    "q = q0\n",
    "q_d = np.zeros([rmodel.nv,1])\n",
    "q_dd = np.zeros([rmodel.nv,1])\n",
    "print q_d"
   ]
  },
  {
   "cell_type": "code",
   "execution_count": null,
   "metadata": {},
   "outputs": [],
   "source": [
    "nle = np.zeros([2,1])\n",
    "for i in range(len(t)):\n",
    "    pin.computeAllTerms(rmodel, robot.data, q, q_d)\n",
    "    M = robot.data.M\n",
    "    Minv = np.linalg.inv(M)\n",
    "    r = np.zeros([,1])\n",
    "    tau = np.zeros([2,1])\n",
    "    tau[0,0] = ddp.us[i]\n",
    "    nle[:,0] = m2a(robot.data.nle)    \n",
    "    r[:] = tau - nle\n",
    "    q_dd = np.dot(Minv, r)\n",
    "    q = q + q_d*dt + q_dd*dt**2\n",
    "    q_d = q_d + q_dd*dt\n",
    "    #pin.forwardKinematics(robot.model, robot.data, q, q_d)\n",
    "    robot.display(q)\n",
    "    time.sleep(dt)"
   ]
  }
 ],
 "metadata": {
  "kernelspec": {
   "display_name": "Python 2",
   "language": "python",
   "name": "python2"
  },
  "language_info": {
   "codemirror_mode": {
    "name": "ipython",
    "version": 2
   },
   "file_extension": ".py",
   "mimetype": "text/x-python",
   "name": "python",
   "nbconvert_exporter": "python",
   "pygments_lexer": "ipython2",
   "version": "2.7.12"
  }
 },
 "nbformat": 4,
 "nbformat_minor": 2
}
