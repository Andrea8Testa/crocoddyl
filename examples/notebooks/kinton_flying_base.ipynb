{
 "cells": [
  {
   "cell_type": "code",
   "execution_count": 6,
   "metadata": {},
   "outputs": [],
   "source": [
    "from crocoddyl import *\n",
    "import pinocchio as pin\n",
    "import numpy as np\n",
    "from crocoddyl.diagnostic import displayTrajectory"
   ]
  },
  {
   "cell_type": "code",
   "execution_count": 7,
   "metadata": {},
   "outputs": [],
   "source": [
    "# LOAD ROBOT\n",
    "robot = loadKinton()\n",
    "robot.initViewer(loadModel=True)\n",
    "robot.display(robot.q0)\n",
    "\n",
    "robot.framesForwardKinematics(robot.q0)\n",
    "\n",
    "rmodel = robot.model"
   ]
  },
  {
   "cell_type": "code",
   "execution_count": 8,
   "metadata": {},
   "outputs": [],
   "source": [
    "# DEFINE TARGET POSITION\n",
    "target_pos  = np.array([0,0,1])\n",
    "target_quat = pin.Quaternion(1, 0, 0, 0)\n",
    "target_quat.normalize()\n",
    "\n",
    "# Plot goal frame\n",
    "robot.viewer.gui.addXYZaxis('world/framegoal', [1., 0., 0., 1.], .015, 4)\n",
    "robot.viewer.gui.applyConfiguration('world/framegoal', target_pos.tolist() + [target_quat[0], target_quat[1], target_quat[2], target_quat[3]])\n",
    "robot.viewer.gui.refresh()"
   ]
  },
  {
   "cell_type": "code",
   "execution_count": 9,
   "metadata": {},
   "outputs": [],
   "source": [
    "# ACTUATION MODEL\n",
    "distanceRotorCOG = 0.1525\n",
    "cf = 6.6e-5\n",
    "cm = 1e-6\n",
    "actModel = ActuationModelUAM(robot.model, distanceRotorCOG, cf, cm)\n",
    "\n",
    "# COST MODEL\n",
    "# Create a cost model per the running and terminal action model.\n",
    "runningCostModel = CostModelSum(robot.model, actModel.nu)\n",
    "terminalCostModel = CostModelSum(robot.model, actModel.nu)\n",
    "\n",
    "frameName = 'base_link'\n",
    "state = StatePinocchio(robot.model)\n",
    "SE3ref = pin.SE3()\n",
    "SE3ref.translation = target_pos.reshape(3,1)\n",
    "SE3ref.rotation = target_quat.matrix()\n",
    "\n",
    "\n",
    "wBasePos  = [1]\n",
    "wBaseOri  = [500]\n",
    "wArmPos   = [1]\n",
    "wBaseVel  = [10]\n",
    "wBaseRate = [10]\n",
    "wArmVel   = [10] \n",
    "stateWeights   = np.array(wBasePos * 3 + wBaseOri * 3 + wArmPos * (robot.model.nv - 6) + wBaseVel * robot.model.nv)\n",
    "controlWeights = np.array([0.1]*4 + [100]*6)\n",
    "\n",
    "goalTrackingCost = CostModelFramePlacement(rmodel,\n",
    "                                           frame=rmodel.getFrameId(frameName),\n",
    "                                           ref=SE3ref,\n",
    "                                           nu =actModel.nu)\n",
    "\n",
    "xRegCost = CostModelState(rmodel, \n",
    "                          state, \n",
    "                          ref=state.zero(), \n",
    "                          nu=actModel.nu,\n",
    "                          activation=ActivationModelWeightedQuad(stateWeights))\n",
    "uRegCost = CostModelControl(rmodel, \n",
    "                            nu=robot.\n",
    "                            model.nv-2,\n",
    "                            activation = ActivationModelWeightedQuad(controlWeights))\n",
    "uLimCost = CostModelControl(rmodel, \n",
    "                            nu=robot.\n",
    "                            model.nv-2,\n",
    "                            activation = ActivationModelInequality(np.array([0.1, 0.1, 0.1, 0.1, -1, -1, -1, -1, -1, -1]), \n",
    "                                                                np.array([5, 5, 5, 5, 1, 1, 1, 1, 1, 1])))\n",
    "\n",
    "# Then let's add the running and terminal cost functions\n",
    "runningCostModel.addCost(name=\"pos\", weight=0.1, cost=goalTrackingCost)\n",
    "runningCostModel.addCost(name=\"regx\", weight=1e-4, cost=xRegCost)\n",
    "runningCostModel.addCost(name=\"regu\", weight=1e-6, cost=uRegCost)\n",
    "# runningCostModel.addCost(name=\"limu\", weight=1e-3, cost=uLimCost)\n",
    "terminalCostModel.addCost(name=\"pos\", weight=0, cost=goalTrackingCost)\n",
    "\n",
    "# DIFFERENTIAL ACTION MODEL\n",
    "runningModel = IntegratedActionModelEuler(DifferentialActionModelUAM(robot.model, actModel, runningCostModel))\n",
    "terminalModel = IntegratedActionModelEuler(DifferentialActionModelUAM(robot.model, actModel, terminalCostModel))"
   ]
  },
  {
   "cell_type": "code",
   "execution_count": 10,
   "metadata": {
    "scrolled": true
   },
   "outputs": [
    {
     "ename": "KeyboardInterrupt",
     "evalue": "",
     "output_type": "error",
     "traceback": [
      "\u001b[0;31m---------------------------------------------------------------------------\u001b[0m",
      "\u001b[0;31mKeyboardInterrupt\u001b[0m                         Traceback (most recent call last)",
      "\u001b[0;32m<ipython-input-10-b175ebf9a54b>\u001b[0m in \u001b[0;36m<module>\u001b[0;34m()\u001b[0m\n\u001b[1;32m     23\u001b[0m     \u001b[0mm\u001b[0m\u001b[0;34m.\u001b[0m\u001b[0mdifferential\u001b[0m\u001b[0;34m.\u001b[0m\u001b[0mquasiStatic\u001b[0m\u001b[0;34m(\u001b[0m\u001b[0md\u001b[0m\u001b[0;34m.\u001b[0m\u001b[0mdifferential\u001b[0m\u001b[0;34m,\u001b[0m \u001b[0mrmodel\u001b[0m\u001b[0;34m.\u001b[0m\u001b[0mdefaultState\u001b[0m\u001b[0;34m)\u001b[0m\u001b[0;34m\u001b[0m\u001b[0m\n\u001b[1;32m     24\u001b[0m     \u001b[0;32mif\u001b[0m \u001b[0misinstance\u001b[0m\u001b[0;34m(\u001b[0m\u001b[0mm\u001b[0m\u001b[0;34m,\u001b[0m \u001b[0mIntegratedActionModelEuler\u001b[0m\u001b[0;34m)\u001b[0m \u001b[0;32melse\u001b[0m \u001b[0mnp\u001b[0m\u001b[0;34m.\u001b[0m\u001b[0mzeros\u001b[0m\u001b[0;34m(\u001b[0m\u001b[0;36m0\u001b[0m\u001b[0;34m)\u001b[0m\u001b[0;34m\u001b[0m\u001b[0m\n\u001b[0;32m---> 25\u001b[0;31m     for m, d in zip(fddp.problem.runningModels, fddp.problem.runningDatas)]\n\u001b[0m\u001b[1;32m     26\u001b[0m \u001b[0mxs0\u001b[0m \u001b[0;34m=\u001b[0m \u001b[0;34m[\u001b[0m\u001b[0mproblem\u001b[0m\u001b[0;34m.\u001b[0m\u001b[0minitialState\u001b[0m\u001b[0;34m]\u001b[0m\u001b[0;34m*\u001b[0m\u001b[0mlen\u001b[0m\u001b[0;34m(\u001b[0m\u001b[0mfddp\u001b[0m\u001b[0;34m.\u001b[0m\u001b[0mmodels\u001b[0m\u001b[0;34m(\u001b[0m\u001b[0;34m)\u001b[0m\u001b[0;34m)\u001b[0m\u001b[0;34m\u001b[0m\u001b[0m\n\u001b[1;32m     27\u001b[0m \u001b[0;34m\u001b[0m\u001b[0m\n",
      "\u001b[0;32m/home/jmarti/robotics/toolboxes/crocoddyl/crocoddyl/flying.pyc\u001b[0m in \u001b[0;36mquasiStatic\u001b[0;34m(self, data, x)\u001b[0m\n\u001b[1;32m     71\u001b[0m         \u001b[0;32melse\u001b[0m\u001b[0;34m:\u001b[0m\u001b[0;34m\u001b[0m\u001b[0m\n\u001b[1;32m     72\u001b[0m             \u001b[0mx\u001b[0m\u001b[0;34m[\u001b[0m\u001b[0mnq\u001b[0m\u001b[0;34m:\u001b[0m\u001b[0;34m]\u001b[0m \u001b[0;34m=\u001b[0m \u001b[0;36m0\u001b[0m\u001b[0;34m\u001b[0m\u001b[0m\n\u001b[0;32m---> 73\u001b[0;31m         \u001b[0mself\u001b[0m\u001b[0;34m.\u001b[0m\u001b[0mcalcDiff\u001b[0m\u001b[0;34m(\u001b[0m\u001b[0mdata\u001b[0m\u001b[0;34m,\u001b[0m \u001b[0mx\u001b[0m\u001b[0;34m,\u001b[0m \u001b[0mnp\u001b[0m\u001b[0;34m.\u001b[0m\u001b[0mzeros\u001b[0m\u001b[0;34m(\u001b[0m\u001b[0mnu\u001b[0m\u001b[0;34m)\u001b[0m\u001b[0;34m)\u001b[0m\u001b[0;34m\u001b[0m\u001b[0m\n\u001b[0m\u001b[1;32m     74\u001b[0m         \u001b[0;32mreturn\u001b[0m \u001b[0mnp\u001b[0m\u001b[0;34m.\u001b[0m\u001b[0mdot\u001b[0m\u001b[0;34m(\u001b[0m\u001b[0mnp\u001b[0m\u001b[0;34m.\u001b[0m\u001b[0mlinalg\u001b[0m\u001b[0;34m.\u001b[0m\u001b[0mpinv\u001b[0m\u001b[0;34m(\u001b[0m\u001b[0mdata\u001b[0m\u001b[0;34m.\u001b[0m\u001b[0mactuation\u001b[0m\u001b[0;34m.\u001b[0m\u001b[0mAu\u001b[0m\u001b[0;34m)\u001b[0m\u001b[0;34m,\u001b[0m \u001b[0;34m-\u001b[0m\u001b[0mdata\u001b[0m\u001b[0;34m.\u001b[0m\u001b[0mr\u001b[0m\u001b[0;34m)\u001b[0m\u001b[0;34m[\u001b[0m\u001b[0;34m:\u001b[0m\u001b[0mnu\u001b[0m\u001b[0;34m]\u001b[0m\u001b[0;34m\u001b[0m\u001b[0m\n\u001b[1;32m     75\u001b[0m \u001b[0;34m\u001b[0m\u001b[0m\n",
      "\u001b[0;32m/home/jmarti/robotics/toolboxes/crocoddyl/crocoddyl/flying.pyc\u001b[0m in \u001b[0;36mcalcDiff\u001b[0;34m(self, data, x, u, recalc)\u001b[0m\n\u001b[1;32m     62\u001b[0m         \u001b[0mpinocchio\u001b[0m\u001b[0;34m.\u001b[0m\u001b[0mcomputeJointJacobians\u001b[0m\u001b[0;34m(\u001b[0m\u001b[0mself\u001b[0m\u001b[0;34m.\u001b[0m\u001b[0mpinocchio\u001b[0m\u001b[0;34m,\u001b[0m \u001b[0mdata\u001b[0m\u001b[0;34m.\u001b[0m\u001b[0mpinocchio\u001b[0m\u001b[0;34m,\u001b[0m \u001b[0mq\u001b[0m\u001b[0;34m)\u001b[0m\u001b[0;34m\u001b[0m\u001b[0m\n\u001b[1;32m     63\u001b[0m         \u001b[0mpinocchio\u001b[0m\u001b[0;34m.\u001b[0m\u001b[0mupdateFramePlacements\u001b[0m\u001b[0;34m(\u001b[0m\u001b[0mself\u001b[0m\u001b[0;34m.\u001b[0m\u001b[0mpinocchio\u001b[0m\u001b[0;34m,\u001b[0m \u001b[0mdata\u001b[0m\u001b[0;34m.\u001b[0m\u001b[0mpinocchio\u001b[0m\u001b[0;34m)\u001b[0m\u001b[0;34m\u001b[0m\u001b[0m\n\u001b[0;32m---> 64\u001b[0;31m         \u001b[0mself\u001b[0m\u001b[0;34m.\u001b[0m\u001b[0mcosts\u001b[0m\u001b[0;34m.\u001b[0m\u001b[0mcalcDiff\u001b[0m\u001b[0;34m(\u001b[0m\u001b[0mdata\u001b[0m\u001b[0;34m.\u001b[0m\u001b[0mcosts\u001b[0m\u001b[0;34m,\u001b[0m \u001b[0mx\u001b[0m\u001b[0;34m,\u001b[0m \u001b[0mu\u001b[0m\u001b[0;34m,\u001b[0m \u001b[0mrecalc\u001b[0m\u001b[0;34m=\u001b[0m\u001b[0mFalse\u001b[0m\u001b[0;34m)\u001b[0m\u001b[0;34m\u001b[0m\u001b[0m\n\u001b[0m\u001b[1;32m     65\u001b[0m         \u001b[0;32mreturn\u001b[0m \u001b[0mdata\u001b[0m\u001b[0;34m.\u001b[0m\u001b[0mxout\u001b[0m\u001b[0;34m,\u001b[0m \u001b[0mdata\u001b[0m\u001b[0;34m.\u001b[0m\u001b[0mcost\u001b[0m\u001b[0;34m\u001b[0m\u001b[0m\n\u001b[1;32m     66\u001b[0m \u001b[0;34m\u001b[0m\u001b[0m\n",
      "\u001b[0;32m/home/jmarti/robotics/toolboxes/crocoddyl/crocoddyl/cost.pyc\u001b[0m in \u001b[0;36mcalcDiff\u001b[0;34m(self, data, x, u, recalc)\u001b[0m\n\u001b[1;32m    186\u001b[0m         \u001b[0mnr\u001b[0m \u001b[0;34m=\u001b[0m \u001b[0;36m0\u001b[0m\u001b[0;34m\u001b[0m\u001b[0m\n\u001b[1;32m    187\u001b[0m         \u001b[0;32mfor\u001b[0m \u001b[0mm\u001b[0m\u001b[0;34m,\u001b[0m \u001b[0md\u001b[0m \u001b[0;32min\u001b[0m \u001b[0mzip\u001b[0m\u001b[0;34m(\u001b[0m\u001b[0mself\u001b[0m\u001b[0;34m.\u001b[0m\u001b[0mcosts\u001b[0m\u001b[0;34m.\u001b[0m\u001b[0mvalues\u001b[0m\u001b[0;34m(\u001b[0m\u001b[0;34m)\u001b[0m\u001b[0;34m,\u001b[0m \u001b[0mdata\u001b[0m\u001b[0;34m.\u001b[0m\u001b[0mcosts\u001b[0m\u001b[0;34m.\u001b[0m\u001b[0mvalues\u001b[0m\u001b[0;34m(\u001b[0m\u001b[0;34m)\u001b[0m\u001b[0;34m)\u001b[0m\u001b[0;34m:\u001b[0m\u001b[0;34m\u001b[0m\u001b[0m\n\u001b[0;32m--> 188\u001b[0;31m             \u001b[0mm\u001b[0m\u001b[0;34m.\u001b[0m\u001b[0mcost\u001b[0m\u001b[0;34m.\u001b[0m\u001b[0mcalcDiff\u001b[0m\u001b[0;34m(\u001b[0m\u001b[0md\u001b[0m\u001b[0;34m,\u001b[0m \u001b[0mx\u001b[0m\u001b[0;34m,\u001b[0m \u001b[0mu\u001b[0m\u001b[0;34m,\u001b[0m \u001b[0mrecalc\u001b[0m\u001b[0;34m=\u001b[0m\u001b[0mFalse\u001b[0m\u001b[0;34m)\u001b[0m\u001b[0;34m\u001b[0m\u001b[0m\n\u001b[0m\u001b[1;32m    189\u001b[0m             \u001b[0mdata\u001b[0m\u001b[0;34m.\u001b[0m\u001b[0mLx\u001b[0m\u001b[0;34m[\u001b[0m\u001b[0;34m:\u001b[0m\u001b[0;34m]\u001b[0m \u001b[0;34m+=\u001b[0m \u001b[0mm\u001b[0m\u001b[0;34m.\u001b[0m\u001b[0mweight\u001b[0m \u001b[0;34m*\u001b[0m \u001b[0md\u001b[0m\u001b[0;34m.\u001b[0m\u001b[0mLx\u001b[0m\u001b[0;34m\u001b[0m\u001b[0m\n\u001b[1;32m    190\u001b[0m             \u001b[0mdata\u001b[0m\u001b[0;34m.\u001b[0m\u001b[0mLu\u001b[0m\u001b[0;34m[\u001b[0m\u001b[0;34m:\u001b[0m\u001b[0;34m]\u001b[0m \u001b[0;34m+=\u001b[0m \u001b[0mm\u001b[0m\u001b[0;34m.\u001b[0m\u001b[0mweight\u001b[0m \u001b[0;34m*\u001b[0m \u001b[0md\u001b[0m\u001b[0;34m.\u001b[0m\u001b[0mLu\u001b[0m\u001b[0;34m\u001b[0m\u001b[0m\n",
      "\u001b[0;32m/home/jmarti/robotics/toolboxes/crocoddyl/crocoddyl/cost.pyc\u001b[0m in \u001b[0;36mcalcDiff\u001b[0;34m(self, data, x, u, recalc)\u001b[0m\n\u001b[1;32m    383\u001b[0m             \u001b[0mself\u001b[0m\u001b[0;34m.\u001b[0m\u001b[0mcalc\u001b[0m\u001b[0;34m(\u001b[0m\u001b[0mdata\u001b[0m\u001b[0;34m,\u001b[0m \u001b[0mx\u001b[0m\u001b[0;34m,\u001b[0m \u001b[0mu\u001b[0m\u001b[0;34m)\u001b[0m\u001b[0;34m\u001b[0m\u001b[0m\n\u001b[1;32m    384\u001b[0m         \u001b[0mnq\u001b[0m \u001b[0;34m=\u001b[0m \u001b[0mself\u001b[0m\u001b[0;34m.\u001b[0m\u001b[0mnq\u001b[0m\u001b[0;34m\u001b[0m\u001b[0m\n\u001b[0;32m--> 385\u001b[0;31m         \u001b[0mpinocchio\u001b[0m\u001b[0;34m.\u001b[0m\u001b[0mupdateFramePlacements\u001b[0m\u001b[0;34m(\u001b[0m\u001b[0mself\u001b[0m\u001b[0;34m.\u001b[0m\u001b[0mpinocchio\u001b[0m\u001b[0;34m,\u001b[0m \u001b[0mdata\u001b[0m\u001b[0;34m.\u001b[0m\u001b[0mpinocchio\u001b[0m\u001b[0;34m)\u001b[0m\u001b[0;34m\u001b[0m\u001b[0m\n\u001b[0m\u001b[1;32m    386\u001b[0m         J = np.dot(\n\u001b[1;32m    387\u001b[0m             \u001b[0mpinocchio\u001b[0m\u001b[0;34m.\u001b[0m\u001b[0mJlog6\u001b[0m\u001b[0;34m(\u001b[0m\u001b[0mdata\u001b[0m\u001b[0;34m.\u001b[0m\u001b[0mrMf\u001b[0m\u001b[0;34m)\u001b[0m\u001b[0;34m,\u001b[0m\u001b[0;34m\u001b[0m\u001b[0m\n",
      "\u001b[0;31mKeyboardInterrupt\u001b[0m: "
     ]
    }
   ],
   "source": [
    "# DEFINING THE SHOOTING PROBLEM & SOLVING\n",
    "\n",
    "# Defining the time duration for running action models and the terminal one\n",
    "dt = 1e-3\n",
    "runningModel.timeStep = dt\n",
    "\n",
    "# For this optimal control problem, we define 250 knots (or running action\n",
    "# models) plus a terminal knot\n",
    "T = 1000\n",
    "q0 = rmodel.referenceConfigurations[\"initial_pose\"].copy()\n",
    "v0 = pin.utils.zero(rmodel.nv)\n",
    "x0 = m2a(np.concatenate([q0, v0]))\n",
    "rmodel.defaultState = x0.copy()\n",
    "\n",
    "problem = ShootingProblem(x0, [runningModel] * T, terminalModel)\n",
    "\n",
    "# Creating the DDP solver for this OC problem, defining a logger\n",
    "fddp = SolverFDDP(problem)\n",
    "fddp.callback = [CallbackDDPVerbose()]\n",
    "fddp.callback.append(CallbackDDPLogger())\n",
    "\n",
    "us0 = [\n",
    "    m.differential.quasiStatic(d.differential, rmodel.defaultState)\n",
    "    if isinstance(m, IntegratedActionModelEuler) else np.zeros(0)\n",
    "    for m, d in zip(fddp.problem.runningModels, fddp.problem.runningDatas)]\n",
    "xs0 = [problem.initialState]*len(fddp.models())\n",
    "\n",
    "# Solving it with the DDP algorithm\n",
    "#fddp.solve(init_xs=xs0, init_us=us0)\n",
    "fddp.solve()"
   ]
  },
  {
   "cell_type": "code",
   "execution_count": null,
   "metadata": {},
   "outputs": [],
   "source": [
    "displayTrajectory(robot, fddp.xs, runningModel.timeStep)"
   ]
  },
  {
   "cell_type": "code",
   "execution_count": null,
   "metadata": {},
   "outputs": [],
   "source": [
    "# Control trajectory\n",
    "f1 = []\n",
    "f2 = [];\n",
    "f3 = [];\n",
    "f4 = [];\n",
    "\n",
    "for u in fddp.us:\n",
    "    f1.append(u[0])\n",
    "    f2.append(u[1])\n",
    "    f3.append(u[2])\n",
    "    f4.append(u[3])\n",
    "\n",
    "# State trajectory\n",
    "Xx = [];\n",
    "Xy = [];\n",
    "Xz = [];\n",
    "Vx = [];\n",
    "Vy = [];\n",
    "Vz = [];\n",
    "\n",
    "\n",
    "for x in fddp.xs:\n",
    "    Xx.append(x[0])\n",
    "    Xy.append(x[1])\n",
    "    Xz.append(x[2])\n",
    "    Vx.append(x[13])\n",
    "    Vy.append(x[14])\n",
    "    Vz.append(x[15])"
   ]
  },
  {
   "cell_type": "code",
   "execution_count": null,
   "metadata": {},
   "outputs": [],
   "source": [
    "import matplotlib.pyplot as plt\n",
    "t = np.arange(0., 1, dt)\n",
    "\n",
    "fig, axs = plt.subplots(2,2, figsize=(15,10))\n",
    "fig.suptitle('Motor forces')\n",
    "axs[0, 0].plot(t,f1)\n",
    "axs[0, 0].set_title('Motor 1')\n",
    "axs[0, 1].plot(t,f2)\n",
    "axs[0, 1].set_title('Motor 2')\n",
    "axs[1, 0].plot(t,f3)\n",
    "axs[1, 0].set_title('Motor 3')\n",
    "axs[1, 1].plot(t,f4)\n",
    "axs[1, 1].set_title('Motor 4')\n",
    "\n",
    "plt.figure()\n",
    "t = np.append(t, 1)\n",
    "plt.plot(t,Xx,t,Xy,t,Xz)\n",
    "plt.legend(['x','y','z'])\n",
    "plt.title('State - Position')\n",
    "plt.ylabel('Position, [m]')\n",
    "plt.xlabel('[s]')\n",
    "\n",
    "plt.figure()\n",
    "plt.plot(t,Vx,t,Vy,t,Vz)\n",
    "plt.legend(['x','y','z'])\n",
    "plt.title('State - Velocity')\n",
    "plt.ylabel('Velocity, [m/s]')\n",
    "plt.xlabel('[s]')"
   ]
  },
  {
   "cell_type": "code",
   "execution_count": null,
   "metadata": {},
   "outputs": [],
   "source": []
  }
 ],
 "metadata": {
  "kernelspec": {
   "display_name": "Python 2",
   "language": "python",
   "name": "python2"
  },
  "language_info": {
   "codemirror_mode": {
    "name": "ipython",
    "version": 2
   },
   "file_extension": ".py",
   "mimetype": "text/x-python",
   "name": "python",
   "nbconvert_exporter": "python",
   "pygments_lexer": "ipython2",
   "version": "2.7.12"
  }
 },
 "nbformat": 4,
 "nbformat_minor": 2
}
