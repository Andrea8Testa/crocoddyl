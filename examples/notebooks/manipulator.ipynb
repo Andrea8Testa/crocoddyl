{
 "cells": [
  {
   "cell_type": "markdown",
   "metadata": {},
   "source": [
    "# Reaching multiple targets with a manipulator\n",
    "The objective of this exercice is to implement a trajectory with a manipulator to reach multiple targets.\n",
    "\n",
    "We provide a basic example for reaching one point, and you have to modify it to reach multiple points in a sequence. Below is the basic example. Next we explain it and we guide you to the final result.\n"
   ]
  },
  {
   "cell_type": "code",
   "execution_count": null,
   "metadata": {},
   "outputs": [],
   "source": [
    "# %load arm_example.py\n",
    "from crocoddyl import *\n",
    "import pinocchio\n",
    "import numpy as np\n",
    "\n",
    "robot = loadTalosArm()\n",
    "robot.initDisplay(loadModel=True)\n",
    "\n",
    "robot.q0.flat[:] = [  2,1.5,-2,0,0,0,0 ]\n",
    "robot.model.armature[:] = .2\n",
    "frameId = robot.model.getFrameId('gripper_left_joint')\n",
    "DT = 1e-2\n",
    "T  = 25\n",
    "\n",
    "target = np.array([ 0.4,0  ,.4 ])\n",
    "\n",
    "robot.viewer.gui.addSphere('world/point',.1,[1,0,0,1])  # radius = .1, RGBA=1001\n",
    "robot.viewer.gui.applyConfiguration('world/point', target.tolist()+[0,0,0,1] )  # xyz+quaternion\n",
    "robot.viewer.gui.refresh()\n",
    "\n",
    "# Create the cost model\n",
    "costTrack = CostModelFrameTranslation(robot.model,frame=frameId,ref=target)\n",
    "costXReg  = CostModelState(robot.model,StatePinocchio(robot.model))\n",
    "costUReg  = CostModelControl(robot.model)\n",
    "\n",
    "# Create the action model with empty costs\n",
    "model     = DifferentialActionModel(robot.model)\n",
    "termmodel = DifferentialActionModel(robot.model)\n",
    "\n",
    "# Then let's added the running and terminal cost functions\n",
    "model.costs.addCost( name=\"pos\", weight = 1, cost = costTrack)\n",
    "model.costs.addCost( name=\"xreg\", weight = 1e-4, cost = costXReg)\n",
    "model.costs.addCost( name=\"ureg\", weight = 1e-7, cost = costUReg)\n",
    "\n",
    "termmodel.costs.addCost( name=\"pos\", weight = 1000, cost = costTrack)\n",
    "termmodel.costs.addCost( name=\"xreg\", weight = 1e-4, cost = costXReg)\n",
    "termmodel.costs.addCost( name=\"ureg\", weight = 1e-7, cost = costUReg)\n",
    "\n",
    "# Create the problem\n",
    "x0 = np.concatenate([ m2a(robot.q0), np.zeros(robot.model.nv)])\n",
    "problem = ShootingProblem(x0, [ IntegratedActionModelEuler(model) ]*T,\n",
    "                          IntegratedActionModelEuler(termmodel))\n",
    "\n",
    "# Creating the DDP solver for this OC problem, defining a logger\n",
    "ddp = SolverDDP(problem)\n",
    "ddp.callback = [CallbackDDPVerbose() ]\n",
    "\n",
    "# Solving it with the DDP algorithm\n",
    "ddp.solve()\n",
    "\n",
    "# Visualizing the solution in gepetto-viewer\n",
    "for x in ddp.xs: robot.display(a2m(x))\n",
    "\n",
    "print('Finally reached = ',\n",
    "      ddp.datas()[T].differential.costs['pos'].pinocchio.oMf[frameId].translation.T)\n"
   ]
  },
  {
   "cell_type": "markdown",
   "metadata": {},
   "source": [
    "## DifferentialActionModel for Pinocchio ABA\n",
    "This scenario uses an advanced action model, that compute 2nd order differential dynamics with Pinocchio, and can accept several cost models. The action model is then tailored for a robot application, but it is at the same time quite module, as you can modify the robot dynamics by changing Pinocchio model, and adjust the cost by summing a new term, tunning a term or creating your own cost term.\n",
    "\n",
    "## Cost models\n",
    "\n",
    "Let's start with the cost. A cost model can compute a scalar cost and the gradient and hessian of the cost. All the models implemented are indeed computing a cost residuals and computing the hessian with the Gauss approximation.\n",
    "\n",
    "We implementing basic cost for controlling a frame placement, translation or velocity, controlling the center of mass position, and definining a cost in the state space and in the control space. In the example above, we used the CostModelFrameTranslation, implementing a 3d position task, and the two costs State and Control acting as regularizers.\n",
    "\n",
    "As for any other models in Croccodyl, you have to create a data with the model to be able to use it. The cost data must be create from a pinocchio data (the rational is that the pinocchio data used to compute the dynamics should be re-used to compute the cost).\n"
   ]
  },
  {
   "cell_type": "code",
   "execution_count": null,
   "metadata": {},
   "outputs": [],
   "source": [
    "dataTrack = costTrack.createData(robot.data)"
   ]
  },
  {
   "cell_type": "markdown",
   "metadata": {},
   "source": [
    "### Cost Frame Position\n",
    "\n",
    "You define a frame ID and the reference position as a 3D array. The cost is the distance between the center of the frame and the target. The cost is only a function of x (and only of the q part of x). You can double check the 0 in its gradient."
   ]
  },
  {
   "cell_type": "code",
   "execution_count": null,
   "metadata": {},
   "outputs": [],
   "source": [
    "pinocchio.updateFramePlacements(robot.model,robot.data)\n",
    "pinocchio.computeJointJacobians(robot.model,robot.data,a2m(x))\n",
    "costTrack.calcDiff(dataTrack,x0,None)\n",
    "print(dataTrack.Lx,dataTrack.Lu)"
   ]
  },
  {
   "cell_type": "markdown",
   "metadata": {},
   "source": [
    "### Cost State\n",
    "Here you must define a State model, which defines what are the dimension of the state and its tangent, and what are the exponential/integrate and difference/log operators. This is done automatically from Pinocchio, but we added the State class in the API to make it explicit and generic.\n",
    "\n",
    "The cost State uses a reference in state space (State.zero() by default). The cost is the distance, computed with state.difference between the current state and the reference. Hence the cost regularizes both position and velocity.\n",
    "\n",
    "### Cost Control\n",
    "\n",
    "Explain the cost control here\n"
   ]
  },
  {
   "cell_type": "markdown",
   "metadata": {},
   "source": [
    "## Add cost models to the Differential action model\n",
    "Explain here the addCost function"
   ]
  },
  {
   "cell_type": "markdown",
   "metadata": {},
   "source": [
    "## Create the problem with integated cost\n",
    "Recall quickly the integrated cost and refer to the cart-pole example."
   ]
  },
  {
   "cell_type": "markdown",
   "metadata": {},
   "source": [
    "## Callbacks\n",
    "\n",
    "Explain quickly the two important callbacks: verbose and display. "
   ]
  },
  {
   "cell_type": "markdown",
   "metadata": {},
   "source": [
    "# Modifying the example\n",
    "\n",
    "Start by defining several targets (let's say 4 targets, all at x=0.4, and at y and z being either 0 or 0.4), and display then in the viewer.\n"
   ]
  },
  {
   "cell_type": "code",
   "execution_count": null,
   "metadata": {},
   "outputs": [],
   "source": []
  },
  {
   "cell_type": "markdown",
   "metadata": {},
   "source": [
    "The shooting problem will be composed of 4 sequences of action models, each sequences with T shooting \"running\" nodes, and 1 terminal node. The running nodes mostly have regularization terms, while the terminal nodes have a strong cost toward the corresponding target.\n",
    "\n",
    "[ R1,R1,R1 ... R1,T1, R2,R2 .... R2, T2, R3 ... R3, T3, R4 ... R4 ] , T4\n",
    "\n",
    "First create 4 running models and 4 terminal models."
   ]
  },
  {
   "cell_type": "code",
   "execution_count": null,
   "metadata": {},
   "outputs": [],
   "source": []
  },
  {
   "cell_type": "markdown",
   "metadata": {},
   "source": [
    "Then add the 3 costs pos, xreg and ureg to each running and terminal model. In the running models, the pos cost should be low, and it should be high in the terminal models."
   ]
  },
  {
   "cell_type": "code",
   "execution_count": null,
   "metadata": {},
   "outputs": [],
   "source": []
  },
  {
   "cell_type": "markdown",
   "metadata": {},
   "source": [
    "Now create a shooting problem."
   ]
  },
  {
   "cell_type": "code",
   "execution_count": null,
   "metadata": {},
   "outputs": [],
   "source": [
    "seq0 = [runningmodels[0]]*T + [terminalmodel[0]]\n",
    "seq1 = [runningmodels[1]]*T + [terminalmodel[1]]\n",
    "seq2 = [runningmodels[2]]*T + [terminalmodel[2]]\n",
    "seq3 = [runningmodels[3]]*T \n",
    "problem = ShootingProblem(x0,seq0+seq1+seq2+seq3,terminalmodel[3])"
   ]
  },
  {
   "cell_type": "markdown",
   "metadata": {},
   "source": [
    "Create a DDP solver for this problem and run it. "
   ]
  },
  {
   "cell_type": "code",
   "execution_count": null,
   "metadata": {},
   "outputs": [],
   "source": [
    "ddp = SolverDDP(problem)\n",
    "ddp.solve()"
   ]
  },
  {
   "cell_type": "markdown",
   "metadata": {},
   "source": [
    "Well, it should not work. Not from the first shot at least: the DDP solver is likely not strong enough to accept the random weights that you have selected. \n",
    "\n",
    "If it is working nicely from the first shot, display it in the viewer and go take a coffee. But you will likely have to tweak the gains to make it work. It is advice to first optimize only sequence 1. When you are happy with it, add sequence 2 and optimize again, etc.\n"
   ]
  },
  {
   "cell_type": "markdown",
   "metadata": {},
   "source": [
    "## Penalty\n",
    "The solver works with double precisions, so it is quite robust to high weight. 10000 is likely to be accepted for example. But if you make the problem too difficult, the solver will break. \n",
    "\n",
    "In that case, you can implement a simple penalty solver by setting the weight to be 10**i, and creating a for loop to explore i from 0 to 5. At each iteration of the loop, run the solver from the previous solution and for few iterations only."
   ]
  },
  {
   "cell_type": "code",
   "execution_count": null,
   "metadata": {},
   "outputs": [],
   "source": [
    "for i in range(1,6):\n",
    "    terminalmodel[1].costs['pos'].weight = 10**i\n",
    "    ddp.solve(init_xs=ddp.xs,init_us=ddp.us,maxiter=10)\n"
   ]
  },
  {
   "cell_type": "code",
   "execution_count": null,
   "metadata": {},
   "outputs": [],
   "source": []
  }
 ],
 "metadata": {
  "kernelspec": {
   "display_name": "Python 2",
   "language": "python",
   "name": "python2"
  },
  "language_info": {
   "codemirror_mode": {
    "name": "ipython",
    "version": 2
   },
   "file_extension": ".py",
   "mimetype": "text/x-python",
   "name": "python",
   "nbconvert_exporter": "python",
   "pygments_lexer": "ipython2",
   "version": "2.7.12"
  }
 },
 "nbformat": 4,
 "nbformat_minor": 2
}
