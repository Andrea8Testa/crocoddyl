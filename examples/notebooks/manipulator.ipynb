{
 "cells": [
  {
   "cell_type": "markdown",
   "metadata": {},
   "source": [
    "# Reaching multiple targets with a manipulator\n",
    "The objective of this exercice is to implement a trajectory with a manipulator to reach multiple targets.\n",
    "\n",
    "We provide a basic example for reaching one point, and you have to modify it to reach multiple points in a sequence. Below is the basic example. Next we explain it and we guide you to the final result.\n"
   ]
  },
  {
   "cell_type": "code",
   "execution_count": 3,
   "metadata": {},
   "outputs": [
    {
     "name": "stdout",
     "output_type": "stream",
     "text": [
      "iter \t cost \t      theta \t    gamma \t  muV \t      muLM \t alpha\n",
      "   0  4.03759e+02  4.63479e-05  3.91802e+02  1.00000e-09  1.00000e-09  1.0000\n",
      "   1  2.63286e+02  7.37335e-05  6.42758e+02  1.00000e-09  1.00000e-09  0.2500\n",
      "   2  2.20577e+02  4.50380e-05  3.86323e+02  1.00000e-09  1.00000e-09  1.0000\n",
      "   3  1.18659e+02  4.71622e-05  3.86564e+02  1.00000e-09  1.00000e-09  1.0000\n",
      "   4  1.05175e+02  1.38233e-05  1.20665e+02  1.00000e-09  1.00000e-09  1.0000\n",
      "   5  7.09226e+01  2.10900e-05  1.79137e+02  1.00000e-09  1.00000e-09  1.0000\n",
      "   6  3.00234e+01  1.56809e-05  1.35583e+02  1.00000e-09  1.00000e-09  1.0000\n",
      "   7  1.12396e+01  5.11524e-06  4.39839e+01  1.00000e-09  1.00000e-09  1.0000\n",
      "   8  1.05845e+01  2.77501e-07  2.34366e+00  1.00000e-09  1.00000e-09  1.0000\n",
      "   9  1.03916e+01  1.19610e-07  1.02553e+00  1.00000e-09  1.00000e-09  0.2500\n",
      "iter \t cost \t      theta \t    gamma \t  muV \t      muLM \t alpha\n",
      "  10  1.03757e+01  3.38563e-08  2.90998e-01  1.00000e-09  1.00000e-09  1.0000\n",
      "  11  1.03267e+01  3.09060e-08  2.66066e-01  1.00000e-09  1.00000e-09  0.2500\n",
      "  12  1.03156e+01  6.95682e-09  5.98155e-02  1.00000e-09  1.00000e-09  0.2500\n",
      "  13  1.03131e+01  1.57953e-09  1.35619e-02  1.00000e-09  1.00000e-09  0.2500\n",
      "  14  1.03125e+01  3.63206e-10  3.11210e-03  1.00000e-09  1.00000e-09  0.2500\n",
      "('Finally reached = ', matrix([[0.33304225, 0.02943523, 0.38774052]]))\n"
     ]
    }
   ],
   "source": [
    "# %load arm_example.py\n",
    "from crocoddyl import *\n",
    "import pinocchio\n",
    "import numpy as np\n",
    "\n",
    "robot = loadTalosArm()\n",
    "robot.initDisplay(loadModel=True)\n",
    "\n",
    "robot.q0.flat[:] = [  2,1.5,-2,0,0,0,0 ]\n",
    "robot.model.armature[:] = .2\n",
    "frameId = robot.model.getFrameId('gripper_left_joint')\n",
    "DT = 1e-2\n",
    "T  = 25\n",
    "\n",
    "target = np.array([ 0.4,0  ,.4 ])\n",
    "\n",
    "robot.viewer.gui.addSphere('world/point',.1,[1,0,0,1])  # radius = .1, RGBA=1001\n",
    "robot.viewer.gui.applyConfiguration('world/point', target.tolist()+[0,0,0,1] )  # xyz+quaternion\n",
    "robot.viewer.gui.refresh()\n",
    "\n",
    "# Create the cost model\n",
    "costTrack = CostModelFrameTranslation(robot.model,frame=frameId,ref=target)\n",
    "costXReg  = CostModelState(robot.model,StatePinocchio(robot.model))\n",
    "costUReg  = CostModelControl(robot.model)\n",
    "\n",
    "# Create the action model with empty costs\n",
    "model     = DifferentialActionModel(robot.model)\n",
    "termmodel = DifferentialActionModel(robot.model)\n",
    "\n",
    "# Then let's added the running and terminal cost functions\n",
    "model.costs.addCost( name=\"pos\", weight = 1, cost = costTrack)\n",
    "model.costs.addCost( name=\"xreg\", weight = 1e-4, cost = costXReg)\n",
    "model.costs.addCost( name=\"ureg\", weight = 1e-7, cost = costUReg)\n",
    "\n",
    "termmodel.costs.addCost( name=\"pos\", weight = 1000, cost = costTrack)\n",
    "termmodel.costs.addCost( name=\"xreg\", weight = 1e-4, cost = costXReg)\n",
    "termmodel.costs.addCost( name=\"ureg\", weight = 1e-7, cost = costUReg)\n",
    "\n",
    "# Create the problem\n",
    "x0 = np.concatenate([ m2a(robot.q0), np.zeros(robot.model.nv)])\n",
    "problem = ShootingProblem(x0, [ IntegratedActionModelEuler(model) ]*T,\n",
    "                          IntegratedActionModelEuler(termmodel))\n",
    "\n",
    "# Creating the DDP solver for this OC problem, defining a logger\n",
    "ddp = SolverDDP(problem)\n",
    "ddp.callback = [CallbackDDPVerbose() ]\n",
    "\n",
    "# Solving it with the DDP algorithm\n",
    "ddp.solve()\n",
    "\n",
    "# Visualizing the solution in gepetto-viewer\n",
    "for x in ddp.xs: robot.display(a2m(x))\n",
    "\n",
    "print('Finally reached = ',\n",
    "      ddp.datas()[T].differential.costs['pos'].pinocchio.oMf[frameId].translation.T)\n"
   ]
  },
  {
   "cell_type": "markdown",
   "metadata": {},
   "source": [
    "## DifferentialActionModel for Pinocchio ABA\n",
    "This scenario uses an advanced action model, that compute 2nd order differential dynamics with Pinocchio, and can accept several cost models. The action model is then tailored for a robot application, but it is at the same time quite module, as you can modify the robot dynamics by changing Pinocchio model, and adjust the cost by summing a new term, tunning a term or creating your own cost term.\n",
    "\n",
    "## Cost models\n",
    "\n",
    "Let's start with the cost. A cost model can compute a scalar cost and the gradient and hessian of the cost. All the models implemented are indeed computing a cost residuals and computing the hessian with the Gauss approximation.\n",
    "\n",
    "We implementing basic cost for controlling a frame placement, translation or velocity, controlling the center of mass position, and definining a cost in the state space and in the control space. In the example above, we used the CostModelFrameTranslation, implementing a 3d position task, and the two costs State and Control acting as regularizers.\n",
    "\n",
    "As for any other models in Croccodyl, you have to create a data with the model to be able to use it. The cost data must be create from a pinocchio data (the rational is that the pinocchio data used to compute the dynamics should be re-used to compute the cost).\n"
   ]
  },
  {
   "cell_type": "code",
   "execution_count": 8,
   "metadata": {},
   "outputs": [],
   "source": [
    "dataTrack = costTrack.createData(robot.data)"
   ]
  },
  {
   "cell_type": "markdown",
   "metadata": {},
   "source": [
    "### Cost Frame Position\n",
    "\n",
    "You define a frame ID and the reference position as a 3D array. The cost is the distance between the center of the frame and the target. The cost is only a function of x (and only of the q part of x). You can double check the 0 in its gradient."
   ]
  },
  {
   "cell_type": "code",
   "execution_count": 12,
   "metadata": {},
   "outputs": [
    {
     "name": "stdout",
     "output_type": "stream",
     "text": [
      "(array([-8.72516471e-03,  5.88825598e-03, -2.05031219e-04, -9.92433215e-05,\n",
      "        1.43041681e-03, -7.60960409e-05,  0.00000000e+00,  0.00000000e+00,\n",
      "        0.00000000e+00,  0.00000000e+00,  0.00000000e+00,  0.00000000e+00,\n",
      "        0.00000000e+00,  0.00000000e+00]), 0)\n"
     ]
    }
   ],
   "source": [
    "pinocchio.updateFramePlacements(robot.model,robot.data)\n",
    "pinocchio.computeJointJacobians(robot.model,robot.data,a2m(x))\n",
    "costTrack.calcDiff(dataTrack,x0,None)\n",
    "print(dataTrack.Lx,dataTrack.Lu)"
   ]
  },
  {
   "cell_type": "markdown",
   "metadata": {},
   "source": [
    "### Cost State\n",
    "Here you must define a State model, which defines what are the dimension of the state and its tangent, and what are the exponential/integrate and difference/log operators. This is done automatically from Pinocchio, but we added the State class in the API to make it explicit and generic.\n",
    "\n",
    "The cost State uses a reference in state space (State.zero() by default). The cost is the distance, computed with state.difference between the current state and the reference. Hence the cost regularizes both position and velocity.\n",
    "\n",
    "### Cost Control\n",
    "\n",
    "Explain the cost control here\n"
   ]
  },
  {
   "cell_type": "markdown",
   "metadata": {},
   "source": [
    "## Add cost models to the Differential action model\n",
    "Explain here the addCost function"
   ]
  },
  {
   "cell_type": "markdown",
   "metadata": {},
   "source": [
    "## Create the problem with integated cost\n",
    "Recall quickly the integrated cost and refer to the cart-pole example."
   ]
  },
  {
   "cell_type": "markdown",
   "metadata": {},
   "source": [
    "## Callbacks\n",
    "\n",
    "Explain quickly the two important callbacks: verbose and display. "
   ]
  },
  {
   "cell_type": "markdown",
   "metadata": {},
   "source": [
    "# Modifying the example\n",
    "\n",
    "Start by defining several targets (let's say 4 targets, all at x=0.4, and at y and z being either 0 or 0.4), and display then in the viewer.\n"
   ]
  },
  {
   "cell_type": "code",
   "execution_count": null,
   "metadata": {},
   "outputs": [],
   "source": []
  },
  {
   "cell_type": "markdown",
   "metadata": {},
   "source": [
    "The shooting problem will be composed of 4 sequences of action models, each sequences with T shooting \"running\" nodes, and 1 terminal node. The running nodes mostly have regularization terms, while the terminal nodes have a strong cost toward the corresponding target.\n",
    "\n",
    "[ R1,R1,R1 ... R1,T1, R2,R2 .... R2, T2, R3 ... R3, T3, R4 ... R4 ] , T4\n",
    "\n",
    "First create 4 running models and 4 terminal models."
   ]
  },
  {
   "cell_type": "code",
   "execution_count": null,
   "metadata": {},
   "outputs": [],
   "source": []
  },
  {
   "cell_type": "markdown",
   "metadata": {},
   "source": [
    "Then add the 3 costs pos, xreg and ureg to each running and terminal model. In the running models, the pos cost should be low, and it should be high in the terminal models."
   ]
  },
  {
   "cell_type": "code",
   "execution_count": null,
   "metadata": {},
   "outputs": [],
   "source": []
  },
  {
   "cell_type": "markdown",
   "metadata": {},
   "source": [
    "Now create a shooting problem."
   ]
  },
  {
   "cell_type": "code",
   "execution_count": 13,
   "metadata": {},
   "outputs": [
    {
     "ename": "NameError",
     "evalue": "name 'runningmodels' is not defined",
     "output_type": "error",
     "traceback": [
      "\u001b[0;31m---------------------------------------------------------------------------\u001b[0m",
      "\u001b[0;31mNameError\u001b[0m                                 Traceback (most recent call last)",
      "\u001b[0;32m<ipython-input-13-6a55160befa4>\u001b[0m in \u001b[0;36m<module>\u001b[0;34m()\u001b[0m\n\u001b[0;32m----> 1\u001b[0;31m \u001b[0mseq0\u001b[0m \u001b[0;34m=\u001b[0m \u001b[0;34m[\u001b[0m\u001b[0mrunningmodels\u001b[0m\u001b[0;34m[\u001b[0m\u001b[0;36m0\u001b[0m\u001b[0;34m]\u001b[0m\u001b[0;34m]\u001b[0m\u001b[0;34m*\u001b[0m\u001b[0mT\u001b[0m \u001b[0;34m+\u001b[0m \u001b[0;34m[\u001b[0m\u001b[0mterminalmodel\u001b[0m\u001b[0;34m[\u001b[0m\u001b[0;36m0\u001b[0m\u001b[0;34m]\u001b[0m\u001b[0;34m]\u001b[0m\u001b[0;34m\u001b[0m\u001b[0m\n\u001b[0m\u001b[1;32m      2\u001b[0m \u001b[0mseq1\u001b[0m \u001b[0;34m=\u001b[0m \u001b[0;34m[\u001b[0m\u001b[0mrunningmodels\u001b[0m\u001b[0;34m[\u001b[0m\u001b[0;36m1\u001b[0m\u001b[0;34m]\u001b[0m\u001b[0;34m]\u001b[0m\u001b[0;34m*\u001b[0m\u001b[0mT\u001b[0m \u001b[0;34m+\u001b[0m \u001b[0;34m[\u001b[0m\u001b[0mterminalmodel\u001b[0m\u001b[0;34m[\u001b[0m\u001b[0;36m1\u001b[0m\u001b[0;34m]\u001b[0m\u001b[0;34m]\u001b[0m\u001b[0;34m\u001b[0m\u001b[0m\n\u001b[1;32m      3\u001b[0m \u001b[0mseq2\u001b[0m \u001b[0;34m=\u001b[0m \u001b[0;34m[\u001b[0m\u001b[0mrunningmodels\u001b[0m\u001b[0;34m[\u001b[0m\u001b[0;36m2\u001b[0m\u001b[0;34m]\u001b[0m\u001b[0;34m]\u001b[0m\u001b[0;34m*\u001b[0m\u001b[0mT\u001b[0m \u001b[0;34m+\u001b[0m \u001b[0;34m[\u001b[0m\u001b[0mterminalmodel\u001b[0m\u001b[0;34m[\u001b[0m\u001b[0;36m2\u001b[0m\u001b[0;34m]\u001b[0m\u001b[0;34m]\u001b[0m\u001b[0;34m\u001b[0m\u001b[0m\n\u001b[1;32m      4\u001b[0m \u001b[0mseq3\u001b[0m \u001b[0;34m=\u001b[0m \u001b[0;34m[\u001b[0m\u001b[0mrunningmodels\u001b[0m\u001b[0;34m[\u001b[0m\u001b[0;36m3\u001b[0m\u001b[0;34m]\u001b[0m\u001b[0;34m]\u001b[0m\u001b[0;34m*\u001b[0m\u001b[0mT\u001b[0m\u001b[0;34m\u001b[0m\u001b[0m\n\u001b[1;32m      5\u001b[0m \u001b[0mShootingProblem\u001b[0m\u001b[0;34m(\u001b[0m\u001b[0mx0\u001b[0m\u001b[0;34m,\u001b[0m\u001b[0mseq0\u001b[0m\u001b[0;34m+\u001b[0m\u001b[0mseq1\u001b[0m\u001b[0;34m+\u001b[0m\u001b[0mseq2\u001b[0m\u001b[0;34m+\u001b[0m\u001b[0mseq3\u001b[0m\u001b[0;34m,\u001b[0m\u001b[0mterminalmodel\u001b[0m\u001b[0;34m[\u001b[0m\u001b[0;36m3\u001b[0m\u001b[0;34m]\u001b[0m\u001b[0;34m)\u001b[0m\u001b[0;34m\u001b[0m\u001b[0m\n",
      "\u001b[0;31mNameError\u001b[0m: name 'runningmodels' is not defined"
     ]
    }
   ],
   "source": [
    "seq0 = [runningmodels[0]]*T + [terminalmodel[0]]\n",
    "seq1 = [runningmodels[1]]*T + [terminalmodel[1]]\n",
    "seq2 = [runningmodels[2]]*T + [terminalmodel[2]]\n",
    "seq3 = [runningmodels[3]]*T \n",
    "problem = ShootingProblem(x0,seq0+seq1+seq2+seq3,terminalmodel[3])"
   ]
  },
  {
   "cell_type": "markdown",
   "metadata": {},
   "source": [
    "Create a DDP solver for this problem and run it. "
   ]
  },
  {
   "cell_type": "code",
   "execution_count": 15,
   "metadata": {},
   "outputs": [
    {
     "data": {
      "text/plain": [
       "([array([ 2. ,  1.5, -2. ,  0. ,  0. ,  0. ,  0. ,  0. ,  0. ,  0. ,  0. ,\n",
       "          0. ,  0. ,  0. ]),\n",
       "  array([ 2.00276016e+00,  1.49536806e+00, -1.99874790e+00,  8.12648182e-06,\n",
       "         -1.37732679e-03,  2.98750766e-04,  9.09930966e-05,  2.76015874e+00,\n",
       "         -4.63193763e+00,  1.25210424e+00,  8.12648182e-03, -1.37732679e+00,\n",
       "          2.98750766e-01,  9.09930966e-02]),\n",
       "  array([ 2.00811977e+00,  1.48646633e+00, -1.99632191e+00,  2.81154769e-05,\n",
       "         -3.99490322e-03,  8.81722840e-04,  2.54202696e-04,  5.35961319e+00,\n",
       "         -8.90173520e+00,  2.42599041e+00,  1.99889950e-02, -2.61757643e+00,\n",
       "          5.82972074e-01,  1.63209600e-01]),\n",
       "  array([ 2.01594788e+00,  1.47363666e+00, -1.99276627e+00,  6.40730041e-05,\n",
       "         -7.72775418e-03,  1.74149161e-03,  4.73982137e-04,  7.82810678e+00,\n",
       "         -1.28296631e+01,  3.55563539e+00,  3.59575272e-02, -3.73285096e+00,\n",
       "          8.59768771e-01,  2.19779441e-01]),\n",
       "  array([ 2.02613700e+00,  1.45720129e+00, -1.98810083e+00,  1.20139689e-04,\n",
       "         -1.24618698e-02,  2.87548129e-03,  7.37322253e-04,  1.01891180e+01,\n",
       "         -1.64353756e+01,  4.66544164e+00,  5.60666845e-02, -4.73411565e+00,\n",
       "          1.13398968e+00,  2.63340115e-01]),\n",
       "  array([ 2.03859826e+00,  1.43746332e+00, -1.98232914e+00,  2.00257338e-04,\n",
       "         -1.80931711e-02,  4.28404033e-03,  1.03343512e-03,  1.24612660e+01,\n",
       "         -1.97379653e+01,  5.77169240e+00,  8.01176493e-02, -5.63130123e+00,\n",
       "          1.40855904e+00,  2.96112871e-01]),\n",
       "  array([ 2.05325766e+00,  1.41470726e+00, -1.97544530e+00,  3.08018106e-04,\n",
       "         -2.45265921e-02,  5.96881736e-03,  1.35340141e-03,  1.46593967e+01,\n",
       "         -2.27560611e+01,  6.88383157e+00,  1.07760768e-01, -6.43342107e+00,\n",
       "          1.68477703e+00,  3.19966282e-01]),\n",
       "  array([ 2.07005308e+00,  1.38919930e+00, -1.96743972e+00,  4.46582018e-04,\n",
       "         -3.16752849e-02,  7.93140334e-03,  1.68987092e-03,  1.67954161e+01,\n",
       "         -2.55079632e+01,  8.00558118e+00,  1.38563911e-01, -7.14869280e+00,\n",
       "          1.96258598e+00,  3.36469518e-01]),\n",
       "  array([ 2.08893199e+00,  1.36118751e+00, -1.95830381e+00,  6.18652246e-04,\n",
       "         -3.94599401e-02,  1.01722063e-02,  2.03680812e-03,  1.88789194e+01,\n",
       "         -2.80117932e+01,  9.13591372e+00,  1.72070228e-01, -7.78465518e+00,\n",
       "          2.24080296e+00,  3.46937195e-01]),\n",
       "  array([ 2.10984965e+00,  1.33090187e+00, -1.94803391e+00,  8.26500074e-04,\n",
       "         -4.78082133e-02,  1.26895276e-02,  2.38927547e-03,  2.09176524e+01,\n",
       "         -3.02856382e+01,  1.02698966e+01,  2.07847828e-01, -8.34827323e+00,\n",
       "          2.51732133e+00,  3.52467356e-01]),\n",
       "  array([ 2.13276748e+00,  1.29855420e+00, -1.93663449e+00,  1.07203311e-03,\n",
       "         -5.66542397e-02,  1.54788123e-02,  2.74324927e-03,  2.29178367e+01,\n",
       "         -3.23476653e+01,  1.13994243e+01,  2.45533035e-01, -8.84602631e+00,\n",
       "          2.78928471e+00,  3.53973795e-01]),\n",
       "  array([ 2.15765187e+00,  1.26433801e+00, -1.92412064e+00,  1.35690134e-03,\n",
       "         -6.59382155e-02,  1.85320491e-02,  3.09546297e-03,  2.48843814e+01,\n",
       "         -3.42161879e+01,  1.25138528e+01,  2.84868234e-01, -9.28397589e+00,\n",
       "          3.05323678e+00,  3.52213703e-01]),\n",
       "  array([ 2.18447287e+00,  1.22842835e+00, -1.91052009e+00,  1.68263612e-03,\n",
       "         -7.56060266e-02,  2.18372994e-02,  3.44327437e-03,  2.68210025e+01,\n",
       "         -3.59096691e+01,  1.36005458e+01,  3.25734780e-01, -9.66781111e+00,\n",
       "          3.30525024e+00,  3.47811401e-01]),\n",
       "  array([ 2.21320314e+00,  1.19098169e+00, -1.89587475e+00,  2.05081719e-03,\n",
       "         -8.56088989e-02,  2.53783373e-02,  3.78455316e-03,  2.87302676e+01,\n",
       "         -3.74466511e+01,  1.46453443e+01,  3.68181066e-01, -1.00028723e+01,\n",
       "          3.54103795e+00,  3.41278790e-01]),\n",
       "  array([ 2.24381671e+00,  1.15213609e+00, -1.88024178e+00,  2.46326274e-03,\n",
       "         -9.59030518e-02,  2.91343867e-02,  4.11758617e-03,  3.06135786e+01,\n",
       "         -3.88456072e+01,  1.56329687e+01,  4.12445547e-01, -1.02941529e+01,\n",
       "          3.75604937e+00,  3.33033002e-01]),\n",
       "  array([ 2.27628782e+00,  1.11201137e+00, -1.86369442e+00,  2.92223706e-03,\n",
       "         -1.06449335e-01,  3.30799419e-02,  4.44099784e-03,  3.24711062e+01,\n",
       "         -4.01247129e+01,  1.65473613e+01,  4.58974325e-01, -1.05462829e+01,\n",
       "          3.94555523e+00,  3.23411671e-01]),\n",
       "  array([ 2.31058951e+00,  1.07070983e+00, -1.84632243e+00,  3.43066984e-03,\n",
       "         -1.17212830e-01,  3.71846661e-02,  4.75368402e-03,  3.43016854e+01,\n",
       "         -4.13015391e+01,  1.73719827e+01,  5.08432779e-01, -1.07634950e+01,\n",
       "          4.10472415e+00,  3.12686184e-01]),\n",
       "  array([ 2.34669219e+00,  1.02831716e+00, -1.82823236e+00,  3.99238050e-03,\n",
       "         -1.28162408e-01,  4.14133613e-02,  5.05475724e-03,  3.61026821e+01,\n",
       "         -4.23926734e+01,  1.80900742e+01,  5.61710665e-01, -1.09495783e+01,\n",
       "          4.22869528e+00,  3.01073223e-01]),\n",
       "  array([ 2.38456203e+00,  9.84903888e-01, -1.80954746e+00,  4.61230053e-03,\n",
       "         -1.39270229e-01,  4.57260133e-02,  5.34350211e-03,  3.78698395e+01,\n",
       "         -4.34132737e+01,  1.86849036e+01,  6.19920024e-01, -1.11078208e+01,\n",
       "          4.31265198e+00,  2.88744863e-01]),\n",
       "  array([ 2.42415914e+00,  9.40527324e-01, -1.79040744e+00,  5.29668564e-03,\n",
       "         -1.50511172e-01,  5.00779158e-02,  5.61933952e-03,  3.95971138e+01,\n",
       "         -4.43765635e+01,  1.91400157e+01,  6.84385112e-01, -1.12409434e+01,\n",
       "          4.35190253e+00,  2.75837413e-01]),\n",
       "  array([ 2.46543565e+00,  8.95234047e-01, -1.77096793e+00,  6.05330873e-03,\n",
       "         -1.61862196e-01,  5.44198897e-02,  5.88179855e-03,  4.12765084e+01,\n",
       "         -4.52932769e+01,  1.94395094e+01,  7.56623085e-01, -1.13510244e+01,\n",
       "          4.34197382e+00,  2.62459033e-01]),\n",
       "  array([ 2.50833357e+00,  8.49062982e-01, -1.75139957e+00,  6.89162220e-03,\n",
       "         -1.73301607e-01,  5.86986128e-02,  6.13049444e-03,  4.28979170e+01,\n",
       "         -4.61710650e+01,  1.95683650e+01,  8.38313473e-01, -1.14394109e+01,\n",
       "          4.27872312e+00,  2.48695892e-01]),\n",
       "  array([ 2.55278255e+00,  8.02049104e-01, -1.73188672e+00,  7.82287561e-03,\n",
       "         -1.84808223e-01,  6.28570825e-02,  6.36511092e-03,  4.44489834e+01,\n",
       "         -4.70138787e+01,  1.95128430e+01,  9.31253416e-01, -1.15066152e+01,\n",
       "          4.15846970e+00,  2.34616471e-01]),\n",
       "  array([ 2.59869754e+00,  7.54227743e-01, -1.71262575e+00,  8.86017090e-03,\n",
       "         -1.96360421e-01,  6.68352267e-02,  6.58538451e-03,  4.59149906e+01,\n",
       "         -4.78213602e+01,  1.92609730e+01,  1.03729528e+00, -1.15521981e+01,\n",
       "          3.97814424e+00,  2.20273595e-01]),\n",
       "  array([ 2.64597634e+00,  7.05639458e-01, -1.69382260e+00,  1.00184354e-02,\n",
       "         -2.07935072e-01,  7.05706785e-02,  6.79108875e-03,  4.72787984e+01,\n",
       "         -4.85882854e+01,  1.88031510e+01,  1.15826448e+00, -1.15746513e+01,\n",
       "          3.73545182e+00,  2.05704235e-01]),\n",
       "  array([ 2.69449720e+00,  6.56335331e-01, -1.67568973e+00,  1.13142942e-02,\n",
       "         -2.19506376e-01,  7.39997240e-02,  6.98201636e-03,  4.85208595e+01,\n",
       "         -4.93041266e+01,  1.81328638e+01,  1.29585879e+00, -1.15713045e+01,\n",
       "          3.42904546e+00,  1.90927612e-01])],\n",
       " [array([ 1.88290939e+03, -2.52340722e+03,  1.70302141e+01, -2.38889102e+00,\n",
       "         -6.43585955e+02,  1.36418321e+01,  5.92274778e+00]),\n",
       "  array([ 1.76949148e+03, -2.32366916e+03,  8.40677698e+00, -1.50395307e+00,\n",
       "         -5.86724106e+02,  1.18980889e+01,  3.11249885e+00]),\n",
       "  array([ 1.66310649e+03, -2.13671634e+03,  3.02008639e+00, -7.76501156e-01,\n",
       "         -5.34403203e+02,  1.07847942e+01,  8.64708153e-01]),\n",
       "  array([ 1.56262223e+03, -1.96169121e+03, -2.98760571e-01, -2.26097902e-01,\n",
       "         -4.86236007e+02,  1.00457252e+01, -9.11989483e-01]),\n",
       "  array([ 1.46715305e+03, -1.79780921e+03, -2.43308883e+00,  1.40703732e-01,\n",
       "         -4.41875803e+02,  9.49243978e+00, -2.29445678e+00]),\n",
       "  array([ 1.37600342e+03, -1.64434915e+03, -4.02711217e+00,  3.27201944e-01,\n",
       "         -4.01011299e+02,  8.99286936e+00, -3.34734071e+00]),\n",
       "  array([ 1.28862370e+03, -1.50064534e+03, -5.52629342e+00,  3.44049814e-01,\n",
       "         -3.63361693e+02,  8.46117453e+00, -4.12498236e+00]),\n",
       "  array([ 1.20457532e+03, -1.36608096e+03, -7.21243709e+00,  2.07267496e-01,\n",
       "         -3.28672043e+02,  7.84879600e+00, -4.67302006e+00]),\n",
       "  array([ 1.12350335e+03, -1.24008220e+03, -9.23428918e+00, -6.33434093e-02,\n",
       "         -2.96709044e+02,  7.13658488e+00, -5.02974258e+00]),\n",
       "  array([ 1.04511515e+03, -1.12211323e+03, -1.16343142e+01, -4.45454904e-01,\n",
       "         -2.67257286e+02,  6.32788287e+00, -5.22723830e+00]),\n",
       "  array([ 9.69163508e+02, -1.01167203e+03, -1.43722060e+01, -9.15183420e-01,\n",
       "         -2.40116055e+02,  5.44242955e+00, -5.29237653e+00]),\n",
       "  array([ 895.43380503, -908.28722854,  -17.34558301,   -1.44780467,\n",
       "         -215.0967046 ,    4.51099078,   -5.2476499 ]),\n",
       "  array([ 823.7339775 , -811.51601914,  -20.40822571,   -2.01822821,\n",
       "         -192.02060901,    3.57062412,   -5.11190024]),\n",
       "  array([ 753.88689411, -720.94305222,  -23.38613388,   -2.60123898,\n",
       "         -170.7176905 ,    2.66052312,   -4.9009451 ]),\n",
       "  array([ 685.72451485, -636.18030643,  -26.09160977,   -3.17150865,\n",
       "         -151.02550301,    1.81841131,   -4.62811829]),\n",
       "  array([ 619.08348004, -556.86764701,  -28.33550633,   -3.70337818,\n",
       "         -132.78882189,    1.0774901 ,   -4.30473368]),\n",
       "  array([ 5.53801902e+02, -4.82673628e+02, -2.99377218e+01, -4.17041955e+00,\n",
       "         -1.15859625e+02,  4.63979846e-01, -3.94047989e+00]),\n",
       "  array([ 4.89717279e+02, -4.13295727e+02, -3.07359983e+01, -4.54480264e+00,\n",
       "         -1.00097209e+02, -4.68154181e-03, -3.54375299e+00]),\n",
       "  array([ 4.26665509e+02, -3.48458726e+02, -3.05931643e+01, -4.79653637e+00,\n",
       "         -8.53679329e+01, -3.20934162e-01, -3.12193927e+00]),\n",
       "  array([ 364.48089544, -287.90951585,  -29.40324707,   -4.89272774,\n",
       "          -71.5437967 ,   -0.48755944,   -2.68167007]),\n",
       "  array([ 302.99663966, -231.40683522,  -27.09741164,   -4.7970965 ,\n",
       "          -58.49900556,   -0.51787318,   -2.22908275]),\n",
       "  array([ 242.044812  , -178.70598649,  -23.65109583,   -4.47003415,\n",
       "          -46.10428421,   -0.43638225,   -1.77012013]),\n",
       "  array([ 181.45455448, -129.54125782,  -19.09306841,   -3.86940658,\n",
       "          -34.22016791,   -0.28066996,   -1.31086616]),\n",
       "  array([ 1.21047840e+02, -8.36104776e+01, -1.35147644e+01, -2.95203978e+00,\n",
       "         -2.26917958e+01, -1.04437514e-01, -8.57857064e-01]),\n",
       "  array([ 6.06333539e+01, -4.05644412e+01, -7.07559165e+00, -1.67553928e+00,\n",
       "         -1.13473358e+01,  1.97544582e-02, -4.18277846e-01])],\n",
       " True)"
      ]
     },
     "execution_count": 15,
     "metadata": {},
     "output_type": "execute_result"
    }
   ],
   "source": [
    "ddp = SolverDDP(problem)\n",
    "ddp.solve()"
   ]
  },
  {
   "cell_type": "markdown",
   "metadata": {},
   "source": [
    "Well, it should not work. Not from the first shot at least: the DDP solver is likely not strong enough to accept the random weights that you have selected. \n",
    "\n",
    "If it is working nicely from the first shot, display it in the viewer and go take a coffee. But you will likely have to tweak the gains to make it work. It is advice to first optimize only sequence 1. When you are happy with it, add sequence 2 and optimize again, etc.\n"
   ]
  },
  {
   "cell_type": "markdown",
   "metadata": {},
   "source": [
    "## Penalty\n",
    "The solver works with double precisions, so it is quite robust to high weight. 10000 is likely to be accepted for example. But if you make the problem too difficult, the solver will break. \n",
    "\n",
    "In that case, you can implement a simple penalty solver by setting the weight to be 10**i, and creating a for loop to explore i from 0 to 5. At each iteration of the loop, run the solver from the previous solution and for few iterations only."
   ]
  },
  {
   "cell_type": "code",
   "execution_count": 16,
   "metadata": {},
   "outputs": [
    {
     "ename": "NameError",
     "evalue": "name 'terminalmodel' is not defined",
     "output_type": "error",
     "traceback": [
      "\u001b[0;31m---------------------------------------------------------------------------\u001b[0m",
      "\u001b[0;31mNameError\u001b[0m                                 Traceback (most recent call last)",
      "\u001b[0;32m<ipython-input-16-ca5dbaadcfa0>\u001b[0m in \u001b[0;36m<module>\u001b[0;34m()\u001b[0m\n\u001b[1;32m      1\u001b[0m \u001b[0;32mfor\u001b[0m \u001b[0mi\u001b[0m \u001b[0;32min\u001b[0m \u001b[0mrange\u001b[0m\u001b[0;34m(\u001b[0m\u001b[0;36m1\u001b[0m\u001b[0;34m,\u001b[0m\u001b[0;36m6\u001b[0m\u001b[0;34m)\u001b[0m\u001b[0;34m:\u001b[0m\u001b[0;34m\u001b[0m\u001b[0m\n\u001b[0;32m----> 2\u001b[0;31m     \u001b[0mterminalmodel\u001b[0m\u001b[0;34m[\u001b[0m\u001b[0;36m1\u001b[0m\u001b[0;34m]\u001b[0m\u001b[0;34m.\u001b[0m\u001b[0mcosts\u001b[0m\u001b[0;34m[\u001b[0m\u001b[0;34m'pos'\u001b[0m\u001b[0;34m]\u001b[0m\u001b[0;34m.\u001b[0m\u001b[0mweight\u001b[0m \u001b[0;34m=\u001b[0m \u001b[0;36m10\u001b[0m\u001b[0;34m**\u001b[0m\u001b[0mi\u001b[0m\u001b[0;34m\u001b[0m\u001b[0m\n\u001b[0m\u001b[1;32m      3\u001b[0m     \u001b[0mddp\u001b[0m\u001b[0;34m.\u001b[0m\u001b[0msolve\u001b[0m\u001b[0;34m(\u001b[0m\u001b[0minit_xs\u001b[0m\u001b[0;34m=\u001b[0m\u001b[0mddp\u001b[0m\u001b[0;34m.\u001b[0m\u001b[0mxs\u001b[0m\u001b[0;34m,\u001b[0m\u001b[0minit_us\u001b[0m\u001b[0;34m=\u001b[0m\u001b[0mddp\u001b[0m\u001b[0;34m.\u001b[0m\u001b[0mus\u001b[0m\u001b[0;34m,\u001b[0m\u001b[0mmaxiter\u001b[0m\u001b[0;34m=\u001b[0m\u001b[0;36m10\u001b[0m\u001b[0;34m)\u001b[0m\u001b[0;34m\u001b[0m\u001b[0m\n",
      "\u001b[0;31mNameError\u001b[0m: name 'terminalmodel' is not defined"
     ]
    }
   ],
   "source": [
    "for i in range(1,6):\n",
    "    terminalmodel[1].costs['pos'].weight = 10**i\n",
    "    ddp.solve(init_xs=ddp.xs,init_us=ddp.us,maxiter=10)\n"
   ]
  },
  {
   "cell_type": "code",
   "execution_count": null,
   "metadata": {},
   "outputs": [],
   "source": []
  }
 ],
 "metadata": {
  "kernelspec": {
   "display_name": "Python 2",
   "language": "python",
   "name": "python2"
  },
  "language_info": {
   "codemirror_mode": {
    "name": "ipython",
    "version": 2
   },
   "file_extension": ".py",
   "mimetype": "text/x-python",
   "name": "python",
   "nbconvert_exporter": "python",
   "pygments_lexer": "ipython2",
   "version": "2.7.12"
  }
 },
 "nbformat": 4,
 "nbformat_minor": 2
}
