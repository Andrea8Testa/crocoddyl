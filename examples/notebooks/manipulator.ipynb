{
 "cells": [
  {
   "cell_type": "markdown",
   "metadata": {},
   "source": [
    "# Reaching multiple targets with a manipulator\n",
    "The objective of this exercise is to reach multiple targets with a manipulator.\n",
    "\n",
    "We provide a basic example for reaching one point, and you have to modify it for sequence of multiple targets. Below it is the basic example, there we'll guide you to the final result.\n"
   ]
  },
  {
   "cell_type": "code",
   "execution_count": 5,
   "metadata": {},
   "outputs": [
    {
     "name": "stdout",
     "output_type": "stream",
     "text": [
      "iter \t cost \t      theta \t    gamma \t  muV \t      muLM \t alpha\n",
      "   0  4.03759e+02  4.63479e-05  3.91802e+02  1.00000e-09  1.00000e-09  1.0000\n",
      "   1  2.63286e+02  7.37335e-05  6.42758e+02  1.00000e-09  1.00000e-09  0.2500\n",
      "   2  2.20577e+02  4.50380e-05  3.86323e+02  1.00000e-09  1.00000e-09  1.0000\n",
      "   3  1.18659e+02  4.71622e-05  3.86564e+02  1.00000e-09  1.00000e-09  1.0000\n",
      "   4  1.05175e+02  1.38233e-05  1.20665e+02  1.00000e-09  1.00000e-09  1.0000\n",
      "   5  7.09226e+01  2.10900e-05  1.79137e+02  1.00000e-09  1.00000e-09  1.0000\n",
      "   6  3.00234e+01  1.56809e-05  1.35583e+02  1.00000e-09  1.00000e-09  1.0000\n",
      "   7  1.12396e+01  5.11524e-06  4.39839e+01  1.00000e-09  1.00000e-09  1.0000\n",
      "   8  1.05845e+01  2.77501e-07  2.34366e+00  1.00000e-09  1.00000e-09  1.0000\n",
      "   9  1.03916e+01  1.19610e-07  1.02553e+00  1.00000e-09  1.00000e-09  0.2500\n",
      "iter \t cost \t      theta \t    gamma \t  muV \t      muLM \t alpha\n",
      "  10  1.03757e+01  3.38563e-08  2.90998e-01  1.00000e-09  1.00000e-09  1.0000\n",
      "  11  1.03267e+01  3.09060e-08  2.66066e-01  1.00000e-09  1.00000e-09  0.2500\n",
      "  12  1.03156e+01  6.95682e-09  5.98155e-02  1.00000e-09  1.00000e-09  0.2500\n",
      "  13  1.03131e+01  1.57953e-09  1.35619e-02  1.00000e-09  1.00000e-09  0.2500\n",
      "  14  1.03125e+01  3.63206e-10  3.11210e-03  1.00000e-09  1.00000e-09  0.2500\n",
      "('Finally reached = ', matrix([[0.33304225, 0.02943523, 0.38774052]]))\n"
     ]
    }
   ],
   "source": [
    "# %load arm_example.py\n",
    "from crocoddyl import *\n",
    "import pinocchio\n",
    "import numpy as np\n",
    "\n",
    "robot = loadTalosArm()\n",
    "robot.initDisplay(loadModel=True)\n",
    "\n",
    "robot.q0.flat[:] = [  2,1.5,-2,0,0,0,0 ]\n",
    "robot.model.armature[:] = .2\n",
    "frameId = robot.model.getFrameId('gripper_left_joint')\n",
    "DT = 1e-2\n",
    "T  = 25\n",
    "\n",
    "target = np.array([ 0.4,0.,0.4 ])\n",
    "\n",
    "robot.viewer.gui.addSphere('world/point',.1,[1,0,0,1])  # radius = .1, RGBA=1001\n",
    "robot.viewer.gui.applyConfiguration('world/point', target.tolist()+[0,0,0,1] )  # xyz+quaternion\n",
    "robot.viewer.gui.refresh()\n",
    "\n",
    "# Create the cost model\n",
    "costTrack = CostModelFrameTranslation(robot.model,frame=frameId,ref=target)\n",
    "costXReg  = CostModelState(robot.model,StatePinocchio(robot.model))\n",
    "costUReg  = CostModelControl(robot.model)\n",
    "\n",
    "# Create the action model with empty costs\n",
    "model     = DifferentialActionModel(robot.model)\n",
    "termmodel = DifferentialActionModel(robot.model)\n",
    "\n",
    "# Then let's add the running and terminal cost functions\n",
    "model.costs.addCost( name=\"pos\", weight = 1, cost = costTrack)\n",
    "model.costs.addCost( name=\"xreg\", weight = 1e-4, cost = costXReg)\n",
    "model.costs.addCost( name=\"ureg\", weight = 1e-7, cost = costUReg)\n",
    "\n",
    "termmodel.costs.addCost( name=\"pos\", weight = 1000, cost = costTrack)\n",
    "termmodel.costs.addCost( name=\"xreg\", weight = 1e-4, cost = costXReg)\n",
    "termmodel.costs.addCost( name=\"ureg\", weight = 1e-7, cost = costUReg)\n",
    "\n",
    "# Create the problem\n",
    "x0 = np.concatenate([ m2a(robot.q0), np.zeros(robot.model.nv)])\n",
    "problem = ShootingProblem(x0, [ IntegratedActionModelEuler(model) ] * T,\n",
    "                          IntegratedActionModelEuler(termmodel))\n",
    "\n",
    "# Creating the DDP solver for this OC problem, defining a logger\n",
    "ddp = SolverDDP(problem)\n",
    "cameraTF = [2., 2.68, 0.54, 0.2, 0.62, 0.72, 0.22]\n",
    "ddp.callback = [ CallbackDDPVerbose(), CallbackSolverDisplay(robot,4,cameraTF) ]\n",
    "\n",
    "# Solving it with the DDP algorithm\n",
    "ddp.solve()\n",
    "\n",
    "# Visualizing the solution in gepetto-viewer\n",
    "for x in ddp.xs: robot.display(a2m(x))\n",
    "\n",
    "print('Finally reached = ',\n",
    "      ddp.datas()[T].differential.costs['pos'].pinocchio.oMf[frameId].translation.T)\n"
   ]
  },
  {
   "cell_type": "markdown",
   "metadata": {},
   "source": [
    "## I. DifferentialActionModel for Pinocchio ABA\n",
    "This scenario uses an action model that computes 2nd order differential dynamics with Pinocchio. Note that it can accept several cost models. This action model is tailored for robot applications, and at the same time, it's modular since:\n",
    " - you can modify the robot dynamics by changing Pinocchio model, and\n",
    " - you can formulate any cost function by simply adding running a terminal costs.\n",
    "\n",
    "## II. Cost models\n",
    "\n",
    "A cost model computes a scalar cost value and its gradient and Hessian. All the models implemented are computing a cost residual and are computing the Hessian with the Gauss approximation.\n",
    "\n",
    "We implemented reusable cost models for controlling \n",
    " - a frame placement (translation or velocity),\n",
    " - the center of mass position, and \n",
    " - state  and control spaces.\n",
    "\n",
    "In the example above, we used the CostModelFrameTranslation which defines a 3d position task, and the state and control regularizers.\n",
    "\n",
    "As for any cost model in crocoddyl, if you write your own cost model you need to create a data class for your cost function. The cost data must be created from a pinocchio data (the rational is that the pinocchio data used to compute the dynamics should be re-used to compute the cost).\n"
   ]
  },
  {
   "cell_type": "code",
   "execution_count": 6,
   "metadata": {},
   "outputs": [],
   "source": [
    "dataTrack = costTrack.createData(robot.data)"
   ]
  },
  {
   "cell_type": "markdown",
   "metadata": {},
   "source": [
    "### II.a Frame position cost\n",
    "\n",
    "You define a frame ID and the reference position as a 3D array. The cost is the distance between the frame and the target. This cost depends on $\\mathbf{x}$ (specifically the configuration $\\mathbf{q}$). You can double check the 0s in its gradient."
   ]
  },
  {
   "cell_type": "code",
   "execution_count": 7,
   "metadata": {
    "scrolled": true
   },
   "outputs": [
    {
     "name": "stdout",
     "output_type": "stream",
     "text": [
      "(array([-8.72516471e-03,  5.88825598e-03, -2.05031219e-04, -9.92433215e-05,\n",
      "        1.43041681e-03, -7.60960409e-05,  0.00000000e+00,  0.00000000e+00,\n",
      "        0.00000000e+00,  0.00000000e+00,  0.00000000e+00,  0.00000000e+00,\n",
      "        0.00000000e+00,  0.00000000e+00]), 0)\n"
     ]
    }
   ],
   "source": [
    "pinocchio.updateFramePlacements(robot.model,robot.data)\n",
    "pinocchio.computeJointJacobians(robot.model,robot.data,a2m(x))\n",
    "costTrack.calcDiff(dataTrack,x0,None)\n",
    "print(dataTrack.Lx,dataTrack.Lu)"
   ]
  },
  {
   "cell_type": "markdown",
   "metadata": {},
   "source": [
    "### II.b State cost\n",
    "In this part of the tutorial you must define a State model. It defines \n",
    " - the dimension of the state and its tangent, and\n",
    " - the exponential/integrate and difference/log operators.\n",
    "The operators can described using Pinocchio functions. And the exercite consists on adding them into your State class. Please note crocoddyl has abstract functions for this.\n",
    "\n",
    "The state cost uses a reference in state space (State.zero() by default). The cost is the distance, computed with state.difference between the current state and the reference. Hence, with this cost, we regularize both position and velocity.\n",
    "\n",
    "### II.c Control cost\n",
    "\n",
    "The control cost uses a control reference as in the state cost. The cost is the distance the current control and the reference. Hence the cost regularizes torque commands."
   ]
  },
  {
   "cell_type": "markdown",
   "metadata": {},
   "source": [
    "### II.d Add cost models to the differential action model\n",
    "Each time we want to include a new cost function, we use addCost function inside our DAM. In this function you're also able its weight."
   ]
  },
  {
   "cell_type": "markdown",
   "metadata": {},
   "source": [
    "## III. Create the problem with integrated action model\n",
    "Differential action models describe cost and dynamics in continuous-time, however our optimal control solvers work in discrete-time. We have created the integrated action model in order to deal with this.\n",
    "\n",
    "In the previous code, we have used an abstract class that uses simpletic Euler rules. In the cartpole exercise you have learnt how to use integrated action models for your problem."
   ]
  },
  {
   "cell_type": "markdown",
   "metadata": {},
   "source": [
    "## IV. Callbacks\n",
    "\n",
    "Callback functions are needed for analysing and debugging the performance of the solver for your specific problem.\n",
    "For problems defined with Pinocchio, you can display the robot trajectory per each iterate by including CallbackSolverDisplay. With this callback, you can display robot motions with different rates. Additionally, CallbackDDPVerbose prints a message that allows us to understand the behaviour of the solver.\n",
    "\n",
    "Generally speaking, an user is able to describe any callback function. This function will be run once per iterate and it has access to all data."
   ]
  },
  {
   "cell_type": "markdown",
   "metadata": {},
   "source": [
    "## VI. Modifying the example\n",
    "\n",
    "Start by defining several targets (let's say 4 targets, all at x=0.4, and at y and z being either 0 or 0.4), and display then in the viewer.\n"
   ]
  },
  {
   "cell_type": "code",
   "execution_count": null,
   "metadata": {},
   "outputs": [],
   "source": []
  },
  {
   "cell_type": "markdown",
   "metadata": {},
   "source": [
    "The shooting problem will be composed of 4 sequences of action models. Each sequence consists on T shooting \"running\" nodes and 1 terminal node. The running nodes mostly have regularization terms, while the terminal nodes have a strong cost toward the respective target.\n",
    "\n",
    "[ R1,R1,R1 ... R1,T1, R2,R2 .... R2, T2, R3 ... R3, T3, R4 ... R4 ] , T4\n",
    "\n",
    "First create 4 running models and 4 terminal models."
   ]
  },
  {
   "cell_type": "code",
   "execution_count": null,
   "metadata": {},
   "outputs": [],
   "source": []
  },
  {
   "cell_type": "markdown",
   "metadata": {},
   "source": [
    "Then you need to add a position cost, and state and control regularization to each running action model. Please  note that for terminal action model is only needed the position cost. Additionally, in the running models, the position cost should be low, and it should be high in the terminal models."
   ]
  },
  {
   "cell_type": "code",
   "execution_count": null,
   "metadata": {},
   "outputs": [],
   "source": []
  },
  {
   "cell_type": "markdown",
   "metadata": {},
   "source": [
    "Now create a shooting problem."
   ]
  },
  {
   "cell_type": "code",
   "execution_count": null,
   "metadata": {},
   "outputs": [],
   "source": [
    "seq0 = [runningmodels[0]]*T + [terminalmodel[0]]\n",
    "seq1 = [runningmodels[1]]*T + [terminalmodel[1]]\n",
    "seq2 = [runningmodels[2]]*T + [terminalmodel[2]]\n",
    "seq3 = [runningmodels[3]]*T \n",
    "problem = ShootingProblem(x0,seq0+seq1+seq2+seq3,terminalmodel[3])"
   ]
  },
  {
   "cell_type": "markdown",
   "metadata": {},
   "source": [
    "Create a DDP solver for this problem and run it. "
   ]
  },
  {
   "cell_type": "code",
   "execution_count": null,
   "metadata": {},
   "outputs": [],
   "source": [
    "ddp = SolverDDP(problem)\n",
    "ddp.solve()"
   ]
  },
  {
   "cell_type": "markdown",
   "metadata": {},
   "source": [
    "Well, it should not work, at least no on the first shot. The DDP solver is likely not strong enough to accept the random weights that you have selected. \n",
    "\n",
    "If it is working nicely from the first shot, display it in the viewer and go take a coffee. But you will likely have to tweak the gains to make it work.\n",
    "\n",
    "**It is suggested to first optimize only sequence 1. When you are happy with it, add sequence 2 and optimize again, etc.**\n"
   ]
  },
  {
   "cell_type": "markdown",
   "metadata": {},
   "source": [
    "## V. Penalty\n",
    "The solver works with double precisions, so it is quite robust to high weight. 10000 is likely to be accepted for example. But if you make the problem too difficult, the solver will break. \n",
    "\n",
    "In that case, you can implement a simple penalty solver by setting the weight to be 10**i, and creating a for loop to explore i from 0 to 5. At each iteration of the loop, run the solver from the previous solution and for few iterations only."
   ]
  },
  {
   "cell_type": "code",
   "execution_count": 8,
   "metadata": {},
   "outputs": [
    {
     "ename": "NameError",
     "evalue": "name 'terminalmodel' is not defined",
     "output_type": "error",
     "traceback": [
      "\u001b[0;31m---------------------------------------------------------------------------\u001b[0m",
      "\u001b[0;31mNameError\u001b[0m                                 Traceback (most recent call last)",
      "\u001b[0;32m<ipython-input-8-ca5dbaadcfa0>\u001b[0m in \u001b[0;36m<module>\u001b[0;34m()\u001b[0m\n\u001b[1;32m      1\u001b[0m \u001b[0;32mfor\u001b[0m \u001b[0mi\u001b[0m \u001b[0;32min\u001b[0m \u001b[0mrange\u001b[0m\u001b[0;34m(\u001b[0m\u001b[0;36m1\u001b[0m\u001b[0;34m,\u001b[0m\u001b[0;36m6\u001b[0m\u001b[0;34m)\u001b[0m\u001b[0;34m:\u001b[0m\u001b[0;34m\u001b[0m\u001b[0m\n\u001b[0;32m----> 2\u001b[0;31m     \u001b[0mterminalmodel\u001b[0m\u001b[0;34m[\u001b[0m\u001b[0;36m1\u001b[0m\u001b[0;34m]\u001b[0m\u001b[0;34m.\u001b[0m\u001b[0mcosts\u001b[0m\u001b[0;34m[\u001b[0m\u001b[0;34m'pos'\u001b[0m\u001b[0;34m]\u001b[0m\u001b[0;34m.\u001b[0m\u001b[0mweight\u001b[0m \u001b[0;34m=\u001b[0m \u001b[0;36m10\u001b[0m\u001b[0;34m**\u001b[0m\u001b[0mi\u001b[0m\u001b[0;34m\u001b[0m\u001b[0m\n\u001b[0m\u001b[1;32m      3\u001b[0m     \u001b[0mddp\u001b[0m\u001b[0;34m.\u001b[0m\u001b[0msolve\u001b[0m\u001b[0;34m(\u001b[0m\u001b[0minit_xs\u001b[0m\u001b[0;34m=\u001b[0m\u001b[0mddp\u001b[0m\u001b[0;34m.\u001b[0m\u001b[0mxs\u001b[0m\u001b[0;34m,\u001b[0m\u001b[0minit_us\u001b[0m\u001b[0;34m=\u001b[0m\u001b[0mddp\u001b[0m\u001b[0;34m.\u001b[0m\u001b[0mus\u001b[0m\u001b[0;34m,\u001b[0m\u001b[0mmaxiter\u001b[0m\u001b[0;34m=\u001b[0m\u001b[0;36m10\u001b[0m\u001b[0;34m)\u001b[0m\u001b[0;34m\u001b[0m\u001b[0m\n",
      "\u001b[0;31mNameError\u001b[0m: name 'terminalmodel' is not defined"
     ]
    }
   ],
   "source": [
    "for i in range(1,6):\n",
    "    terminalmodel[1].costs['pos'].weight = 10**i\n",
    "    ddp.solve(init_xs=ddp.xs,init_us=ddp.us,maxiter=10)\n"
   ]
  }
 ],
 "metadata": {
  "kernelspec": {
   "display_name": "Python 2",
   "language": "python",
   "name": "python2"
  }
 },
 "nbformat": 4,
 "nbformat_minor": 2
}
